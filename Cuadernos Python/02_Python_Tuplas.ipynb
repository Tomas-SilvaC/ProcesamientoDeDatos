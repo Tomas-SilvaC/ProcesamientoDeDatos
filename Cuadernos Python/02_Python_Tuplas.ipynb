{
  "cells": [
    {
      "cell_type": "markdown",
      "source": [
        "<h1>Procesamiento de Datos a Gran Escala</h1>"
      ],
      "metadata": {
        "application/vnd.databricks.v1+cell": {
          "title": "",
          "showTitle": false,
          "inputWidgets": {},
          "nuid": "320ff141-a1e0-432a-bab5-f47660d62a1d"
        },
        "id": "R-8WoSI7xF0o"
      }
    },
    {
      "cell_type": "markdown",
      "source": [
        "# **Pontificia Universidad Javeriana**\n",
        "##**Tomas Alejandro Silva Correal**\n",
        "\n",
        "**10 de Agosto de 2025**\n",
        "\n",
        "**Cuadernos Ejercicios de Python Procesamiento de Datos 2530**"
      ],
      "metadata": {
        "application/vnd.databricks.v1+cell": {
          "title": "",
          "showTitle": false,
          "inputWidgets": {},
          "nuid": "17ec22e7-5fd5-42ca-9dbc-1bb13ad1f5a4"
        },
        "id": "Gg6aGuKKxF0p"
      }
    },
    {
      "cell_type": "markdown",
      "source": [
        "<h2>Tuplas</h2>\n"
      ],
      "metadata": {
        "id": "lQhvNkXRxfu5"
      }
    },
    {
      "cell_type": "markdown",
      "source": [
        "**Descripción:**\n",
        "\n",
        "\n",
        "Este taller trabaja los fundamentos de tuplas y sus funciones en el lenguaje de python, al final de este, se encuentran ejercicios resueltos de dichos fundamentos y operaciones.\n",
        "\n",
        "\n",
        "</div>\n",
        "\n",
        "<hr>"
      ],
      "metadata": {
        "application/vnd.databricks.v1+cell": {
          "title": "",
          "showTitle": false,
          "inputWidgets": {},
          "nuid": "18a11793-afbd-41de-9cf8-ab0e32ab7c45"
        },
        "id": "UIAedpcSxF0q"
      }
    },
    {
      "cell_type": "markdown",
      "source": [
        "<h2>Tabla de Contenido</h2>\n",
        "<div class=\"alert alert-block alert-info\" style=\"margin-top: 20px\">\n",
        "    <ul>\n",
        "        <li>\n",
        "            <a href=\"#dataset\">Acerca de los conjuntos de datos (Dataset)</a>\n",
        "        </li>\n",
        "        <li>\n",
        "            <a href=\"#tuple\">Tuplas</a>\n",
        "            <ul>\n",
        "                <li><a href=\"index\">Indexación</a></li>\n",
        "                <li><a href=\"slice\">Slicing (Sublistas)</a></li>\n",
        "                <li><a href=\"sort\">Ordenamiento</a></li>\n",
        "            </ul>\n",
        "        </li>\n",
        "        <li>\n",
        "            <a href=\"#escape\">Exámen sobre Tuplas</a>\n",
        "        </li>\n",
        "    </ul>\n",
        "    <p>\n",
        "        Tiempo Estimado: <strong>15 min</strong>\n",
        "    </p>\n",
        "</div>\n",
        "\n",
        "<hr>"
      ],
      "metadata": {
        "application/vnd.databricks.v1+cell": {
          "title": "",
          "showTitle": false,
          "inputWidgets": {},
          "nuid": "a86d6aba-3923-4952-84d6-fa5008d7ee01"
        },
        "id": "TcDl1vigxF0q"
      }
    },
    {
      "cell_type": "markdown",
      "source": [
        "<h2 id=\"dataset\">Acerca de los conjuntos de datos (Dataset)</h2>"
      ],
      "metadata": {
        "application/vnd.databricks.v1+cell": {
          "title": "",
          "showTitle": false,
          "inputWidgets": {},
          "nuid": "8b496760-db6c-4c04-b746-857d04fed103"
        },
        "id": "263d9bmFxF0r"
      }
    },
    {
      "cell_type": "markdown",
      "source": [
        "Imagina que obtienes de tus amigos algunas recomendaciones sobre discos de música y las compilas en una tabla con información específica de cada disco.\n",
        "\n",
        "La tabla tiene una fila para cada disco y algunas columnas:\n",
        "\n",
        "- **artist** - Nombre del artista\n",
        "- **album** - Nombre del disco\n",
        "- **released_year** - Año de estreno\n",
        "- **length_min_sec** - Duración del disco (horas, minutos,segundos)\n",
        "- **genre** - Género del disco\n",
        "- **music_recording_sales_millions** - Ventas registradas (en millones de USD) on [SONG://DATABASE](https://cocl.us/hZvV8)\n",
        "- **claimed_sales_millions** - Ventas reportadas (en millones de USD) on [SONG://DATABASE](https://cocl.us/hZvV8)\n",
        "- **date_released** - Fecha del estreno\n",
        "- **soundtrack** - Indica si el disco pertenece a la banda sonora de alguna película (Y) o (N)\n",
        "- **rating_of_friends** - Indica la calificación de tus amigos del 1 al 10\n",
        "<br>\n",
        "<br>\n",
        "\n",
        "El conjunto de datos se muestra a continuación:\n",
        "\n",
        "<font size=\"1\">\n",
        "<table font-size:xx-small style=\"width:100%\">\n",
        "  <tr>\n",
        "    <th>Artist</th>\n",
        "    <th>Album</th>\n",
        "    <th>Released</th>\n",
        "    <th>Length</th>\n",
        "    <th>Genre</th>\n",
        "    <th>Music recording sales (millions)</th>\n",
        "    <th>Claimed sales (millions)</th>\n",
        "    <th>Released</th>\n",
        "    <th>Soundtrack</th>\n",
        "    <th>Rating (friends)</th>\n",
        "  </tr>\n",
        "  <tr>\n",
        "    <td>Michael Jackson</td>\n",
        "    <td>Thriller</td>\n",
        "    <td>1982</td>\n",
        "    <td>00:42:19</td>\n",
        "    <td>Pop, rock, R&B</td>\n",
        "    <td>46</td>\n",
        "    <td>65</td>\n",
        "    <td>30-Nov-82</td>\n",
        "    <td></td>\n",
        "    <td>10.0</td>\n",
        "  </tr>\n",
        "  <tr>\n",
        "    <td>AC/DC</td>\n",
        "    <td>Back in Black</td>\n",
        "    <td>1980</td>\n",
        "    <td>00:42:11</td>\n",
        "    <td>Hard rock</td>\n",
        "    <td>26.1</td>\n",
        "    <td>50</td>\n",
        "    <td>25-Jul-80</td>\n",
        "    <td></td>\n",
        "    <td>8.5</td>\n",
        "  </tr>\n",
        "    <tr>\n",
        "    <td>Pink Floyd</td>\n",
        "    <td>The Dark Side of the Moon</td>\n",
        "    <td>1973</td>\n",
        "    <td>00:42:49</td>\n",
        "    <td>Progressive rock</td>\n",
        "    <td>24.2</td>\n",
        "    <td>45</td>\n",
        "    <td>01-Mar-73</td>\n",
        "    <td></td>\n",
        "    <td>9.5</td>\n",
        "  </tr>\n",
        "    <tr>\n",
        "    <td>Whitney Houston</td>\n",
        "    <td>The Bodyguard</td>\n",
        "    <td>1992</td>\n",
        "    <td>00:57:44</td>\n",
        "    <td>Soundtrack/R&B, soul, pop</td>\n",
        "    <td>26.1</td>\n",
        "    <td>50</td>\n",
        "    <td>25-Jul-80</td>\n",
        "    <td>Y</td>\n",
        "    <td>7.0</td>\n",
        "  </tr>\n",
        "    <tr>\n",
        "    <td>Meat Loaf</td>\n",
        "    <td>Bat Out of Hell</td>\n",
        "    <td>1977</td>\n",
        "    <td>00:46:33</td>\n",
        "    <td>Hard rock, progressive rock</td>\n",
        "    <td>20.6</td>\n",
        "    <td>43</td>\n",
        "    <td>21-Oct-77</td>\n",
        "    <td></td>\n",
        "    <td>7.0</td>\n",
        "  </tr>\n",
        "    <tr>\n",
        "    <td>Eagles</td>\n",
        "    <td>Their Greatest Hits (1971-1975)</td>\n",
        "    <td>1976</td>\n",
        "    <td>00:43:08</td>\n",
        "    <td>Rock, soft rock, folk rock</td>\n",
        "    <td>32.2</td>\n",
        "    <td>42</td>\n",
        "    <td>17-Feb-76</td>\n",
        "    <td></td>\n",
        "    <td>9.5</td>\n",
        "  </tr>\n",
        "    <tr>\n",
        "    <td>Bee Gees</td>\n",
        "    <td>Saturday Night Fever</td>\n",
        "    <td>1977</td>\n",
        "    <td>1:15:54</td>\n",
        "    <td>Disco</td>\n",
        "    <td>20.6</td>\n",
        "    <td>40</td>\n",
        "    <td>15-Nov-77</td>\n",
        "    <td>Y</td>\n",
        "    <td>9.0</td>\n",
        "  </tr>\n",
        "    <tr>\n",
        "    <td>Fleetwood Mac</td>\n",
        "    <td>Rumours</td>\n",
        "    <td>1977</td>\n",
        "    <td>00:40:01</td>\n",
        "    <td>Soft rock</td>\n",
        "    <td>27.9</td>\n",
        "    <td>40</td>\n",
        "    <td>04-Feb-77</td>\n",
        "    <td></td>\n",
        "    <td>9.5</td>\n",
        "  </tr>\n",
        "</table></font>"
      ],
      "metadata": {
        "application/vnd.databricks.v1+cell": {
          "title": "",
          "showTitle": false,
          "inputWidgets": {},
          "nuid": "4494f54b-9a5f-442f-92cb-c2004858cf63"
        },
        "id": "UY5kV2fmxF0r"
      }
    },
    {
      "cell_type": "markdown",
      "source": [
        "<h2 id=\"tuple\">Tuplas</h2>"
      ],
      "metadata": {
        "application/vnd.databricks.v1+cell": {
          "title": "",
          "showTitle": false,
          "inputWidgets": {},
          "nuid": "81291df7-3c48-43bf-8113-9ca04926fb81"
        },
        "id": "7xd93VLAxF0r"
      }
    },
    {
      "cell_type": "markdown",
      "source": [
        "En Python existen diferentes tipos de datos: cadenas, números enteros o decimales (float), etc. Todos estos tipos de datos pueden ser almacenados en una tupla como se indica a continuación:"
      ],
      "metadata": {
        "application/vnd.databricks.v1+cell": {
          "title": "",
          "showTitle": false,
          "inputWidgets": {},
          "nuid": "c8d3c308-3bc5-4c57-8846-34ebec5c416a"
        },
        "id": "YtOC6L-qxF0s"
      }
    },
    {
      "cell_type": "markdown",
      "source": [
        "<img src=\"https://s3-api.us-geo.objectstorage.softlayer.net/cf-courses-data/CognitiveClass/PY0101EN/Chapter%202/Images/TuplesType.png\" width=\"750\" align=\"center\" />"
      ],
      "metadata": {
        "application/vnd.databricks.v1+cell": {
          "title": "",
          "showTitle": false,
          "inputWidgets": {},
          "nuid": "6cc9082c-8fdb-4e1f-bdb3-22a92ab22bce"
        },
        "id": "eBe6OfUPxF0s"
      }
    },
    {
      "cell_type": "markdown",
      "source": [
        "Vamos a crear tu primera tupla compuesta de: una cadena, un entero y un número decimal."
      ],
      "metadata": {
        "application/vnd.databricks.v1+cell": {
          "title": "",
          "showTitle": false,
          "inputWidgets": {},
          "nuid": "489d122d-be0e-4377-91b8-62b32f2ffb01"
        },
        "id": "-p6drE3kxF0s"
      }
    },
    {
      "cell_type": "code",
      "source": [
        "# Crear tu primera tupla\n",
        "# Se crea la tupla\n",
        "tuple1=(\"hola\",2,3.5)\n",
        "# Se muestra el resultado\n",
        "tuple1"
      ],
      "metadata": {
        "jupyter": {
          "outputs_hidden": false
        },
        "application/vnd.databricks.v1+cell": {
          "title": "",
          "showTitle": false,
          "inputWidgets": {},
          "nuid": "a6d5cf99-b579-489a-ad7e-c9a03d32d618"
        },
        "colab": {
          "base_uri": "https://localhost:8080/"
        },
        "id": "6IOjTXb3xF0s",
        "outputId": "90a93550-386c-4aee-e30c-5bfd1731a248"
      },
      "outputs": [
        {
          "output_type": "execute_result",
          "data": {
            "text/plain": [
              "('hola', 2, 3.5)"
            ]
          },
          "metadata": {},
          "execution_count": 1
        }
      ],
      "execution_count": 1
    },
    {
      "cell_type": "markdown",
      "source": [
        "El tipo de dato almacenado en la variable es **tuple**."
      ],
      "metadata": {
        "application/vnd.databricks.v1+cell": {
          "title": "",
          "showTitle": false,
          "inputWidgets": {},
          "nuid": "af8cd245-0cd7-4343-acfa-6b240432c173"
        },
        "id": "6ovHK20nxF0t"
      }
    },
    {
      "cell_type": "code",
      "source": [
        "# Imprime el tipo de dato de la tupla\n",
        "# Se utiliza la funcion \"type()\" para mostrar el tipo de variable de tuple1\n",
        "type(tuple1)"
      ],
      "metadata": {
        "jupyter": {
          "outputs_hidden": false
        },
        "application/vnd.databricks.v1+cell": {
          "title": "",
          "showTitle": false,
          "inputWidgets": {},
          "nuid": "fe1fb2db-815a-4539-8049-7102a713fed5"
        },
        "colab": {
          "base_uri": "https://localhost:8080/"
        },
        "id": "6Jy0MSh8xF0t",
        "outputId": "2eaabbfe-8420-4a2a-8530-7c6908d263b3"
      },
      "outputs": [
        {
          "output_type": "execute_result",
          "data": {
            "text/plain": [
              "tuple"
            ]
          },
          "metadata": {},
          "execution_count": 2
        }
      ],
      "execution_count": 2
    },
    {
      "cell_type": "markdown",
      "source": [
        "<h3 id=\"index\">Indexación</h3>"
      ],
      "metadata": {
        "application/vnd.databricks.v1+cell": {
          "title": "",
          "showTitle": false,
          "inputWidgets": {},
          "nuid": "27c8f0a0-40fd-4b1c-addd-ba1aaf792558"
        },
        "id": "jCjOTCgPxF0t"
      }
    },
    {
      "cell_type": "markdown",
      "source": [
        "Cada elemento dentro de la tupla puede ser accedido a través de su número de índice. La siguiente tabla representa la relación entre el número de índice y los elementos dentro de la tupla. Se puede obtener cada elemento escribiendo el nombre de la tupla seguido de corchetes conteniendo el número del índice:"
      ],
      "metadata": {
        "application/vnd.databricks.v1+cell": {
          "title": "",
          "showTitle": false,
          "inputWidgets": {},
          "nuid": "c6b30036-7ca1-48f9-bbbc-ea0a8c823264"
        },
        "id": "fVfOOGYYxF0t"
      }
    },
    {
      "cell_type": "markdown",
      "source": [
        "<img src=\"https://s3-api.us-geo.objectstorage.softlayer.net/cf-courses-data/CognitiveClass/PY0101EN/Chapter%202/Images/TuplesIndex.gif\" width=\"750\" align=\"center\">"
      ],
      "metadata": {
        "application/vnd.databricks.v1+cell": {
          "title": "",
          "showTitle": false,
          "inputWidgets": {},
          "nuid": "de267f5c-7822-473d-bea8-159ef6e1319b"
        },
        "id": "QoJ-o_mgxF0t"
      }
    },
    {
      "cell_type": "markdown",
      "source": [
        "Podemos imprimir cada uno de los valores de la tupla:"
      ],
      "metadata": {
        "application/vnd.databricks.v1+cell": {
          "title": "",
          "showTitle": false,
          "inputWidgets": {},
          "nuid": "a72e0e29-8772-4f8f-b441-372f514f90e0"
        },
        "id": "eQvLS0qixF0t"
      }
    },
    {
      "cell_type": "code",
      "source": [
        "# Imprimir la variable en cada índice\n",
        "# Se imprimen elementos en indices 0,1 y 2 de tuple1\n",
        "print(tuple1[0])\n",
        "print(tuple1[1])\n",
        "print(tuple1[2])"
      ],
      "metadata": {
        "jupyter": {
          "outputs_hidden": false
        },
        "application/vnd.databricks.v1+cell": {
          "title": "",
          "showTitle": false,
          "inputWidgets": {},
          "nuid": "bd1621ae-6436-4df4-9958-cca5b36334d8"
        },
        "colab": {
          "base_uri": "https://localhost:8080/"
        },
        "id": "itt_RuBixF0t",
        "outputId": "948919ca-90b8-4471-9c79-71050a742cd4"
      },
      "outputs": [
        {
          "output_type": "stream",
          "name": "stdout",
          "text": [
            "hola\n",
            "2\n",
            "3.5\n"
          ]
        }
      ],
      "execution_count": 3
    },
    {
      "cell_type": "markdown",
      "source": [
        "Podemos imprimir el **tipo** de cada uno de los valores de la tupla:"
      ],
      "metadata": {
        "application/vnd.databricks.v1+cell": {
          "title": "",
          "showTitle": false,
          "inputWidgets": {},
          "nuid": "bfa7586f-d2ee-438d-b4e3-8d19d1e2f4b2"
        },
        "id": "dc-4fLvdxF0t"
      }
    },
    {
      "cell_type": "code",
      "source": [
        "# Imprimir el tipo de valor de cada uno de los índices\n",
        "# Se imprimen los tipos de elementos en indices 0,1 y 2 de tuple1\n",
        "print(type(tuple1[0]))\n",
        "print(type(tuple1[1]))\n",
        "print(type(tuple1[2]))"
      ],
      "metadata": {
        "jupyter": {
          "outputs_hidden": false
        },
        "application/vnd.databricks.v1+cell": {
          "title": "",
          "showTitle": false,
          "inputWidgets": {},
          "nuid": "1bb006c1-fe68-4533-afdb-538b76f98668"
        },
        "colab": {
          "base_uri": "https://localhost:8080/"
        },
        "id": "Az5HppP0xF0t",
        "outputId": "dc5990fe-b553-4b11-fca6-f68a33a18302"
      },
      "outputs": [
        {
          "output_type": "stream",
          "name": "stdout",
          "text": [
            "<class 'str'>\n",
            "<class 'int'>\n",
            "<class 'float'>\n"
          ]
        }
      ],
      "execution_count": 4
    },
    {
      "cell_type": "markdown",
      "source": [
        "También podemos usar números de índice negativos. Vamos a usar la misma tabla de arriba con su correspondiente valor negativo:"
      ],
      "metadata": {
        "application/vnd.databricks.v1+cell": {
          "title": "",
          "showTitle": false,
          "inputWidgets": {},
          "nuid": "0b388290-d409-4bd1-ab56-90639c2d4fe8"
        },
        "id": "8zbWp_HhxF0u"
      }
    },
    {
      "cell_type": "markdown",
      "source": [
        "<img src=\"https://s3-api.us-geo.objectstorage.softlayer.net/cf-courses-data/CognitiveClass/PY0101EN/Chapter%202/Images/TuplesNeg.png\" width=\"750\" align=\"center\">"
      ],
      "metadata": {
        "application/vnd.databricks.v1+cell": {
          "title": "",
          "showTitle": false,
          "inputWidgets": {},
          "nuid": "3913af14-308e-4822-b85a-562aed74f62d"
        },
        "id": "VrsvlY9LxF0u"
      }
    },
    {
      "cell_type": "markdown",
      "source": [
        "Obtenemos el ultimo elemento de la siguiente forma (en esta ocasión no usaremos la sentencia print para mostrar los valores en pantalla):"
      ],
      "metadata": {
        "application/vnd.databricks.v1+cell": {
          "title": "",
          "showTitle": false,
          "inputWidgets": {},
          "nuid": "25fc0fb5-2202-4008-ada3-438eb3fe472b"
        },
        "id": "yisfDzC-xF0u"
      }
    },
    {
      "cell_type": "code",
      "source": [
        "# Usar un valor negativo en el índice para obtener el valor del último elemento\n",
        "# Se muestra, usando indexación negativa, el ultimo elemento de la tupla\n",
        "tuple1[-1]"
      ],
      "metadata": {
        "jupyter": {
          "outputs_hidden": false
        },
        "application/vnd.databricks.v1+cell": {
          "title": "",
          "showTitle": false,
          "inputWidgets": {},
          "nuid": "28831d43-39a4-4412-84f4-505868307a7d"
        },
        "colab": {
          "base_uri": "https://localhost:8080/"
        },
        "id": "mRngIaX6xF0u",
        "outputId": "566d8dcc-00cc-40df-8a85-5e0c6b7c9249"
      },
      "outputs": [
        {
          "output_type": "execute_result",
          "data": {
            "text/plain": [
              "3.5"
            ]
          },
          "metadata": {},
          "execution_count": 5
        }
      ],
      "execution_count": 5
    },
    {
      "cell_type": "markdown",
      "source": [
        "Podemos mostrar en pantalla los siguientes dos elementos de la siguiente forma:"
      ],
      "metadata": {
        "application/vnd.databricks.v1+cell": {
          "title": "",
          "showTitle": false,
          "inputWidgets": {},
          "nuid": "4e5a003c-6d0e-4c4d-9759-2e3525a9b277"
        },
        "id": "o2LjyoaNxF0u"
      }
    },
    {
      "cell_type": "code",
      "source": [
        "# Usar un valor negativo en el índice para obtener el valor del penúltimo elemento\n",
        "# Se muestra, usando indexación negativa, el penultimo elemento de la tupla\n",
        "tuple1[-2]"
      ],
      "metadata": {
        "jupyter": {
          "outputs_hidden": false
        },
        "application/vnd.databricks.v1+cell": {
          "title": "",
          "showTitle": false,
          "inputWidgets": {},
          "nuid": "66ecb0a7-e227-4d25-af73-43e785d841cb"
        },
        "colab": {
          "base_uri": "https://localhost:8080/"
        },
        "id": "TJeRZouwxF0u",
        "outputId": "541ba6d6-1da3-44a0-a57a-4048f3122575"
      },
      "outputs": [
        {
          "output_type": "execute_result",
          "data": {
            "text/plain": [
              "2"
            ]
          },
          "metadata": {},
          "execution_count": 6
        }
      ],
      "execution_count": 6
    },
    {
      "cell_type": "code",
      "source": [
        "# Usar un valor negativo en el índice para obtener el valor del antepenúltimo elemento\n",
        "# Se muestra, usando indexación negativa, el antepenultimo elemento de la tupla\n",
        "tuple1[-3]"
      ],
      "metadata": {
        "jupyter": {
          "outputs_hidden": false
        },
        "application/vnd.databricks.v1+cell": {
          "title": "",
          "showTitle": false,
          "inputWidgets": {},
          "nuid": "2beeff0e-a346-4e03-b477-90e84e7ebb7e"
        },
        "colab": {
          "base_uri": "https://localhost:8080/",
          "height": 35
        },
        "id": "uMTk5bd9xF0u",
        "outputId": "f0de9b98-2f11-4874-dc8e-dddc3c4c1897"
      },
      "outputs": [
        {
          "output_type": "execute_result",
          "data": {
            "text/plain": [
              "'hola'"
            ],
            "application/vnd.google.colaboratory.intrinsic+json": {
              "type": "string"
            }
          },
          "metadata": {},
          "execution_count": 7
        }
      ],
      "execution_count": 7
    },
    {
      "cell_type": "markdown",
      "source": [
        "<h3 id=\"concate\">Concatenación de Tuplas</h3>"
      ],
      "metadata": {
        "application/vnd.databricks.v1+cell": {
          "title": "",
          "showTitle": false,
          "inputWidgets": {},
          "nuid": "76b7fe53-cdaf-40ce-b00e-fd59e52faed4"
        },
        "id": "QjqfzHmTxF0u"
      }
    },
    {
      "cell_type": "markdown",
      "source": [
        "Podemos concatenar o combinar tuplas utilizando el signo **+**:"
      ],
      "metadata": {
        "application/vnd.databricks.v1+cell": {
          "title": "",
          "showTitle": false,
          "inputWidgets": {},
          "nuid": "3925bfeb-8a32-4146-8b38-367ad355c81e"
        },
        "id": "BicO1yzuxF0u"
      }
    },
    {
      "cell_type": "code",
      "source": [
        "# Concatenar dos tuplas\n",
        "# Se concatena la tupla tuple1 junto a dos nuevos elementos de la tupla, una cadena y un entero\n",
        "tuple2 = tuple1 + (\"hard rock\", 10)\n",
        "# Se muestra la nueva tupla\n",
        "tuple2"
      ],
      "metadata": {
        "jupyter": {
          "outputs_hidden": false
        },
        "application/vnd.databricks.v1+cell": {
          "title": "",
          "showTitle": false,
          "inputWidgets": {},
          "nuid": "cb6b0947-1b0f-4014-ad3d-6ad0309ea8d0"
        },
        "colab": {
          "base_uri": "https://localhost:8080/"
        },
        "id": "ViYVAIR3xF0u",
        "outputId": "b771b939-e495-40ee-999c-d1e20bdc42f3"
      },
      "outputs": [
        {
          "output_type": "execute_result",
          "data": {
            "text/plain": [
              "('hola', 2, 3.5, 'hard rock', 10)"
            ]
          },
          "metadata": {},
          "execution_count": 8
        }
      ],
      "execution_count": 8
    },
    {
      "cell_type": "markdown",
      "source": [
        "Podemos subdividir (slice) una tupla y obtener múltiples valores como se muestra en la siguiente imagen:"
      ],
      "metadata": {
        "application/vnd.databricks.v1+cell": {
          "title": "",
          "showTitle": false,
          "inputWidgets": {},
          "nuid": "16172976-5ff5-41e9-ae73-233ef6b16a47"
        },
        "id": "YMgRwtAyxF0u"
      }
    },
    {
      "cell_type": "markdown",
      "source": [
        "<img src=\"https://s3-api.us-geo.objectstorage.softlayer.net/cf-courses-data/CognitiveClass/PY0101EN/Chapter%202/Images/TuplesSlice.gif\" width=\"750\" align=\"center\">"
      ],
      "metadata": {
        "application/vnd.databricks.v1+cell": {
          "title": "",
          "showTitle": false,
          "inputWidgets": {},
          "nuid": "2d39f26d-d470-4237-8066-ad5414d3be3d"
        },
        "id": "Q5ZNypP2xF0v"
      }
    },
    {
      "cell_type": "markdown",
      "source": [
        "<h3 id=\"slice\">Slicing (Sublistas)</h3>"
      ],
      "metadata": {
        "application/vnd.databricks.v1+cell": {
          "title": "",
          "showTitle": false,
          "inputWidgets": {},
          "nuid": "03cd56a4-f64d-4500-b6c3-921befbc63c6"
        },
        "id": "FrfEHKnixF0v"
      }
    },
    {
      "cell_type": "markdown",
      "source": [
        "Podemos aplicar el slice en las tuplas, obteniendo su vez nuevas tuplas con sus elementos correspondientes:"
      ],
      "metadata": {
        "application/vnd.databricks.v1+cell": {
          "title": "",
          "showTitle": false,
          "inputWidgets": {},
          "nuid": "dcf4f32a-cd87-42ab-9271-b1e40393250c"
        },
        "id": "7nIjjL06xF0v"
      }
    },
    {
      "cell_type": "code",
      "source": [
        "# Sublista(slice) desde el índice 0 al 2\n",
        "# Se muestran los primeros 3 elementos de la tupla tuple2 via slicing\n",
        "tuple2[0:3]"
      ],
      "metadata": {
        "jupyter": {
          "outputs_hidden": false
        },
        "application/vnd.databricks.v1+cell": {
          "title": "",
          "showTitle": false,
          "inputWidgets": {},
          "nuid": "4ac95889-0019-4660-972f-18c0520cc4d3"
        },
        "colab": {
          "base_uri": "https://localhost:8080/"
        },
        "id": "tUtK8GvpxF0v",
        "outputId": "62681fea-3f1f-4b59-bbd7-252d5e13ebba"
      },
      "outputs": [
        {
          "output_type": "execute_result",
          "data": {
            "text/plain": [
              "('hola', 2, 3.5)"
            ]
          },
          "metadata": {},
          "execution_count": 9
        }
      ],
      "execution_count": 9
    },
    {
      "cell_type": "markdown",
      "source": [
        "Podemos obtener los últimos dos elementos de una tupla:"
      ],
      "metadata": {
        "application/vnd.databricks.v1+cell": {
          "title": "",
          "showTitle": false,
          "inputWidgets": {},
          "nuid": "5c1022ca-646a-42a5-8fae-7b83f392cb02"
        },
        "id": "5P6yBotCxF0v"
      }
    },
    {
      "cell_type": "code",
      "source": [
        "# Sublista(slice) desde el índice 3 al 4\n",
        "# Se muestran los elementos 3 y 4 de la tupla tuple2 via slicing\n",
        "tuple2[3:5]"
      ],
      "metadata": {
        "jupyter": {
          "outputs_hidden": false
        },
        "application/vnd.databricks.v1+cell": {
          "title": "",
          "showTitle": false,
          "inputWidgets": {},
          "nuid": "b969a8a5-c10f-40a2-a773-09d920f8934d"
        },
        "colab": {
          "base_uri": "https://localhost:8080/"
        },
        "id": "oXeNKLFnxF0w",
        "outputId": "b43628a9-3c67-49e1-cb32-efed502e94e5"
      },
      "outputs": [
        {
          "output_type": "execute_result",
          "data": {
            "text/plain": [
              "('hard rock', 10)"
            ]
          },
          "metadata": {},
          "execution_count": 10
        }
      ],
      "execution_count": 10
    },
    {
      "cell_type": "markdown",
      "source": [
        "Podemos obtener la longitud de una tupla usando el comando length:"
      ],
      "metadata": {
        "application/vnd.databricks.v1+cell": {
          "title": "",
          "showTitle": false,
          "inputWidgets": {},
          "nuid": "56148dfb-03d9-4c1d-bb69-8bd2ba344555"
        },
        "id": "7Pl6xusbxF0w"
      }
    },
    {
      "cell_type": "code",
      "source": [
        "# Obtener la longitud de la tupla\n",
        "# Se muestra la longitud de la tupla tuple2\n",
        "len(tuple2)"
      ],
      "metadata": {
        "jupyter": {
          "outputs_hidden": false
        },
        "application/vnd.databricks.v1+cell": {
          "title": "",
          "showTitle": false,
          "inputWidgets": {},
          "nuid": "55c2b3cc-d7dd-4876-9ea2-cf0973bef939"
        },
        "colab": {
          "base_uri": "https://localhost:8080/"
        },
        "id": "OdIW0v0bxF0x",
        "outputId": "31463185-7c93-480f-fa42-112f289e9b3b"
      },
      "outputs": [
        {
          "output_type": "execute_result",
          "data": {
            "text/plain": [
              "5"
            ]
          },
          "metadata": {},
          "execution_count": 11
        }
      ],
      "execution_count": 11
    },
    {
      "cell_type": "markdown",
      "source": [
        "La siguiente imagen muestra el número de elementos:"
      ],
      "metadata": {
        "application/vnd.databricks.v1+cell": {
          "title": "",
          "showTitle": false,
          "inputWidgets": {},
          "nuid": "ca6dbae3-8989-4035-ab0e-5757154b1122"
        },
        "id": "qiRWQ3cDxF0x"
      }
    },
    {
      "cell_type": "markdown",
      "source": [
        "<img src=\"https://s3-api.us-geo.objectstorage.softlayer.net/cf-courses-data/CognitiveClass/PY0101EN/Chapter%202/Images/TuplesElement.png\" width=\"750\" align=\"center\">"
      ],
      "metadata": {
        "application/vnd.databricks.v1+cell": {
          "title": "",
          "showTitle": false,
          "inputWidgets": {},
          "nuid": "b2da4fe7-4137-4502-8a87-515693a42bec"
        },
        "id": "F_Xtc26vxF0x"
      }
    },
    {
      "cell_type": "markdown",
      "source": [
        "<h3 id=\"sort\">Ordenamiento</h3>"
      ],
      "metadata": {
        "application/vnd.databricks.v1+cell": {
          "title": "",
          "showTitle": false,
          "inputWidgets": {},
          "nuid": "45fc9e26-75b2-4f18-92c9-2cbfd72025a4"
        },
        "id": "YdHfRoJyxF0y"
      }
    },
    {
      "cell_type": "markdown",
      "source": [
        "Considérese la siguiente tupla:"
      ],
      "metadata": {
        "application/vnd.databricks.v1+cell": {
          "title": "",
          "showTitle": false,
          "inputWidgets": {},
          "nuid": "ed9f7a0f-0476-4eeb-9ad3-146c18292deb"
        },
        "id": "coGVPoQvxF0y"
      }
    },
    {
      "cell_type": "code",
      "source": [
        "# Tupla de ejemplo\n",
        "# Se crea la tupla\n",
        "Ratings = (0, 9, 6, 5, 10, 8, 9, 6, 2)"
      ],
      "metadata": {
        "jupyter": {
          "outputs_hidden": true
        },
        "application/vnd.databricks.v1+cell": {
          "title": "",
          "showTitle": false,
          "inputWidgets": {},
          "nuid": "5ce57784-248f-4db4-84e7-f5349681cfaa"
        },
        "id": "1EQbvpC8xF0y"
      },
      "outputs": [],
      "execution_count": 12
    },
    {
      "cell_type": "markdown",
      "source": [
        "Podemos ordenar los valores en la tupla y guardarlos en una nueva:"
      ],
      "metadata": {
        "application/vnd.databricks.v1+cell": {
          "title": "",
          "showTitle": false,
          "inputWidgets": {},
          "nuid": "98d6de6c-4d59-4a62-9d67-a13247a03ec2"
        },
        "id": "bBqzvjpgxF0y"
      }
    },
    {
      "cell_type": "code",
      "source": [
        "# Ordenar la tupla\n",
        "# Se utiliza sorted para organizar la tupla y guardarla en una nueva tupla\n",
        "RatingsSorted = sorted(Ratings)\n",
        "# Se muestra la nueva tupla organizada\n",
        "RatingsSorted"
      ],
      "metadata": {
        "jupyter": {
          "outputs_hidden": false
        },
        "application/vnd.databricks.v1+cell": {
          "title": "",
          "showTitle": false,
          "inputWidgets": {},
          "nuid": "c1a7de27-861c-4204-8f3b-404a4c37f618"
        },
        "colab": {
          "base_uri": "https://localhost:8080/"
        },
        "id": "vx_N-urtxF0y",
        "outputId": "6e535458-cc40-49ce-b55d-a45a1f6877eb"
      },
      "outputs": [
        {
          "output_type": "execute_result",
          "data": {
            "text/plain": [
              "[0, 2, 5, 6, 6, 8, 9, 9, 10]"
            ]
          },
          "metadata": {},
          "execution_count": 13
        }
      ],
      "execution_count": 13
    },
    {
      "cell_type": "markdown",
      "source": [
        "<h3 id=\"nest\">Tupla Anidada</h3>"
      ],
      "metadata": {
        "application/vnd.databricks.v1+cell": {
          "title": "",
          "showTitle": false,
          "inputWidgets": {},
          "nuid": "be1c8f4f-2154-4ba2-bc4a-26175f37c319"
        },
        "id": "QZp29T9zxF0y"
      }
    },
    {
      "cell_type": "markdown",
      "source": [
        "Una tupla puede contener a otras tuplas, asi como otro tipo de datos complejos. Este proceso es conocido como “anidar”. Considere la siguiente tupla con algunos elementos:"
      ],
      "metadata": {
        "application/vnd.databricks.v1+cell": {
          "title": "",
          "showTitle": false,
          "inputWidgets": {},
          "nuid": "27ce7588-4d7b-410a-932d-b5de6a422397"
        },
        "id": "KiacoCQZxF0y"
      }
    },
    {
      "cell_type": "code",
      "source": [
        "# Crear una tupla anidada\n",
        "# Se crea una tupla con tuplas anidadas en su interior\n",
        "NestedT =(1, 2, (\"pop\", \"rock\") ,(3,4),(\"disco\",(1,2)))"
      ],
      "metadata": {
        "jupyter": {
          "outputs_hidden": true
        },
        "application/vnd.databricks.v1+cell": {
          "title": "",
          "showTitle": false,
          "inputWidgets": {},
          "nuid": "0ee54511-9008-4737-8e98-1582e183b2d0"
        },
        "id": "exShjoAvxF0y"
      },
      "outputs": [],
      "execution_count": 14
    },
    {
      "cell_type": "markdown",
      "source": [
        "El valor de cada elemento en la tupla incluyendo a otras tuplas pueden ser obtenido a través de un numero de índice como se muestra en la imagen:"
      ],
      "metadata": {
        "application/vnd.databricks.v1+cell": {
          "title": "",
          "showTitle": false,
          "inputWidgets": {},
          "nuid": "48b8c34c-13ad-4969-945d-2e9b52fcbeb4"
        },
        "id": "5nCrqXbdxF0z"
      }
    },
    {
      "cell_type": "markdown",
      "source": [
        "<img src=\"https://s3-api.us-geo.objectstorage.softlayer.net/cf-courses-data/CognitiveClass/PY0101EN/Chapter%202/Images/TuplesNestOne.png\" width=\"750\" align=\"center\">"
      ],
      "metadata": {
        "application/vnd.databricks.v1+cell": {
          "title": "",
          "showTitle": false,
          "inputWidgets": {},
          "nuid": "7f0fedc7-5421-41a7-a37d-be4038c78baa"
        },
        "id": "l5HgS6waxF0z"
      }
    },
    {
      "cell_type": "code",
      "source": [
        "# Imprimir el elemento de cada índice\n",
        "# Se muestran e imprimen los elementos en las tuplas, mostrando los elementos de las tuplas anidadas\n",
        "print(\"Element 0 of Tuple: \", NestedT[0])\n",
        "print(\"Element 1 of Tuple: \", NestedT[1])\n",
        "print(\"Element 2 of Tuple: \", NestedT[2])\n",
        "print(\"Element 3 of Tuple: \", NestedT[3])\n",
        "print(\"Element 4 of Tuple: \", NestedT[4])"
      ],
      "metadata": {
        "jupyter": {
          "outputs_hidden": false
        },
        "application/vnd.databricks.v1+cell": {
          "title": "",
          "showTitle": false,
          "inputWidgets": {},
          "nuid": "ec8eb5a7-482f-4873-b0b4-ed77e88b2172"
        },
        "colab": {
          "base_uri": "https://localhost:8080/"
        },
        "id": "rz3WJ5zLxF0z",
        "outputId": "0649ed7d-b507-4211-9428-ca91b615bcff"
      },
      "outputs": [
        {
          "output_type": "stream",
          "name": "stdout",
          "text": [
            "Element 0 of Tuple:  1\n",
            "Element 1 of Tuple:  2\n",
            "Element 2 of Tuple:  ('pop', 'rock')\n",
            "Element 3 of Tuple:  (3, 4)\n",
            "Element 4 of Tuple:  ('disco', (1, 2))\n"
          ]
        }
      ],
      "execution_count": 15
    },
    {
      "cell_type": "markdown",
      "source": [
        "Podemos usar un segundo índice para acceder otras tuplas como se muestra en la siguiente imagen:"
      ],
      "metadata": {
        "application/vnd.databricks.v1+cell": {
          "title": "",
          "showTitle": false,
          "inputWidgets": {},
          "nuid": "1d65a029-6132-4d5a-9ed6-94da531f4a2c"
        },
        "id": "ur76vFF9xF0z"
      }
    },
    {
      "cell_type": "markdown",
      "source": [
        "<img src=\"https://s3-api.us-geo.objectstorage.softlayer.net/cf-courses-data/CognitiveClass/PY0101EN/Chapter%202/Images/TuplesNestTwo.png\" width=\"750\" align=\"center\">"
      ],
      "metadata": {
        "application/vnd.databricks.v1+cell": {
          "title": "",
          "showTitle": false,
          "inputWidgets": {},
          "nuid": "cb7d8b79-7798-40da-9abe-8acfaa576e03"
        },
        "id": "vBBTVJ2dxF0z"
      }
    },
    {
      "cell_type": "markdown",
      "source": [
        "Podemos acceder a las tuplas anidadas:"
      ],
      "metadata": {
        "application/vnd.databricks.v1+cell": {
          "title": "",
          "showTitle": false,
          "inputWidgets": {},
          "nuid": "57ee7d33-1ecf-4ffc-a745-ae0a1fe639dc"
        },
        "id": "-elUxg5xxF0z"
      }
    },
    {
      "cell_type": "code",
      "source": [
        "# Imprimir el elemento de cada índice, incluyendo los índices anidados\n",
        "# Se muestra mediante un segundo indice los valores especificos de las tuplas anidadas\n",
        "print(\"Element 2, 0 of Tuple: \",   NestedT[2][0])\n",
        "print(\"Element 2, 1 of Tuple: \",   NestedT[2][1])\n",
        "print(\"Element 3, 0 of Tuple: \",   NestedT[3][0])\n",
        "print(\"Element 3, 1 of Tuple: \",   NestedT[3][1])\n",
        "print(\"Element 4, 0 of Tuple: \",   NestedT[4][0])\n",
        "print(\"Element 4, 1 of Tuple: \",   NestedT[4][1])"
      ],
      "metadata": {
        "jupyter": {
          "outputs_hidden": false
        },
        "application/vnd.databricks.v1+cell": {
          "title": "",
          "showTitle": false,
          "inputWidgets": {},
          "nuid": "868f3566-9276-4dde-a44b-d1230c533618"
        },
        "colab": {
          "base_uri": "https://localhost:8080/"
        },
        "id": "FVIn1ToMxF0z",
        "outputId": "c54cc0fe-ce9e-4340-e39a-bca2e9a73cde"
      },
      "outputs": [
        {
          "output_type": "stream",
          "name": "stdout",
          "text": [
            "Element 2, 0 of Tuple:  pop\n",
            "Element 2, 1 of Tuple:  rock\n",
            "Element 3, 0 of Tuple:  3\n",
            "Element 3, 1 of Tuple:  4\n",
            "Element 4, 0 of Tuple:  disco\n",
            "Element 4, 1 of Tuple:  (1, 2)\n"
          ]
        }
      ],
      "execution_count": 16
    },
    {
      "cell_type": "markdown",
      "source": [
        "Podemos acceder a las cadenas de las segundas tuplas anidadas usando un tercer número de índice:"
      ],
      "metadata": {
        "application/vnd.databricks.v1+cell": {
          "title": "",
          "showTitle": false,
          "inputWidgets": {},
          "nuid": "accbe0f1-f971-492e-864f-ae1cb855cb1f"
        },
        "id": "z8KphxLJxF0z"
      }
    },
    {
      "cell_type": "code",
      "source": [
        "# Imprimir el primer elemento en las segundas tuplas anidadas\n",
        "# Entre mas elementos esten anidados, mas indices deben de usarse para referirse a los mismos (se puede obtener el indice para un caracter de una cadena por ejemplo)\n",
        "NestedT[2][1][0]"
      ],
      "metadata": {
        "jupyter": {
          "outputs_hidden": false
        },
        "application/vnd.databricks.v1+cell": {
          "title": "",
          "showTitle": false,
          "inputWidgets": {},
          "nuid": "baa4a64f-019c-4c02-95b1-7643387ed486"
        },
        "colab": {
          "base_uri": "https://localhost:8080/",
          "height": 35
        },
        "id": "g_Y0UgzlxF0z",
        "outputId": "0b9138cd-565f-4fd2-ce29-5d94e7624e28"
      },
      "outputs": [
        {
          "output_type": "execute_result",
          "data": {
            "text/plain": [
              "'r'"
            ],
            "application/vnd.google.colaboratory.intrinsic+json": {
              "type": "string"
            }
          },
          "metadata": {},
          "execution_count": 17
        }
      ],
      "execution_count": 17
    },
    {
      "cell_type": "code",
      "source": [
        "# Imprimir el segundo elemento en las segundas tuplas anidadas\n",
        "# Se obtiene el segundo caracter de la segunda palabra de la tercera tupla\n",
        "NestedT[2][1][1]"
      ],
      "metadata": {
        "jupyter": {
          "outputs_hidden": false
        },
        "application/vnd.databricks.v1+cell": {
          "title": "",
          "showTitle": false,
          "inputWidgets": {},
          "nuid": "9da85cb7-ca69-4cc9-9b89-ee8ac4cf598d"
        },
        "colab": {
          "base_uri": "https://localhost:8080/",
          "height": 35
        },
        "id": "bio7MH8pxF0z",
        "outputId": "473a5da6-3e11-450a-8594-ad0fe705f6e5"
      },
      "outputs": [
        {
          "output_type": "execute_result",
          "data": {
            "text/plain": [
              "'o'"
            ],
            "application/vnd.google.colaboratory.intrinsic+json": {
              "type": "string"
            }
          },
          "metadata": {},
          "execution_count": 18
        }
      ],
      "execution_count": 18
    },
    {
      "cell_type": "markdown",
      "source": [
        "Podemos usar una estructura de árbol para visualizar el proceso. Cada índice nuevo corresponde a un nivel mas profundo del árbol:"
      ],
      "metadata": {
        "application/vnd.databricks.v1+cell": {
          "title": "",
          "showTitle": false,
          "inputWidgets": {},
          "nuid": "7f830683-a6e7-4598-ad85-42468e109c76"
        },
        "id": "ivRmmVrCxF00"
      }
    },
    {
      "cell_type": "markdown",
      "source": [
        "<img src=\"https://s3-api.us-geo.objectstorage.softlayer.net/cf-courses-data/CognitiveClass/PY0101EN/Chapter%202/Images/TuplesNestThree.gif\" width=\"750\" align=\"center\">"
      ],
      "metadata": {
        "application/vnd.databricks.v1+cell": {
          "title": "",
          "showTitle": false,
          "inputWidgets": {},
          "nuid": "f1bc5e3c-8db6-4e48-9644-67d33739ac9b"
        },
        "id": "iPrXiLsixF00"
      }
    },
    {
      "cell_type": "markdown",
      "source": [
        "De igual forma, podemos acceder a elementos anidados en niveles mas bajos dentro del árbol utilizando un cuarto índice:"
      ],
      "metadata": {
        "application/vnd.databricks.v1+cell": {
          "title": "",
          "showTitle": false,
          "inputWidgets": {},
          "nuid": "872c2e8f-283d-4649-a12b-3fdee0ad567a"
        },
        "id": "hpN5GbI-xF00"
      }
    },
    {
      "cell_type": "code",
      "source": [
        "# Imprimir el primer elemento en las segundas tuplas anidadas\n",
        "# Se obtiene mediante un cuarto indice un valor aun mas bajo del arbol\n",
        "NestedT[4][1][0]"
      ],
      "metadata": {
        "jupyter": {
          "outputs_hidden": false
        },
        "application/vnd.databricks.v1+cell": {
          "title": "",
          "showTitle": false,
          "inputWidgets": {},
          "nuid": "e9337664-0f22-41d9-a962-40e358171b1f"
        },
        "colab": {
          "base_uri": "https://localhost:8080/"
        },
        "id": "z_iLUQ6ixF00",
        "outputId": "505f8216-73ad-4f6c-e900-bb51559f5af4"
      },
      "outputs": [
        {
          "output_type": "execute_result",
          "data": {
            "text/plain": [
              "1"
            ]
          },
          "metadata": {},
          "execution_count": 19
        }
      ],
      "execution_count": 19
    },
    {
      "cell_type": "code",
      "source": [
        "# Imprimir el segundo elemento en las segundas tuplas anidadas\n",
        "# Se obtiene mediante un cuarto indice un valor aun mas bajo del arbol\n",
        "NestedT[4][1][1]"
      ],
      "metadata": {
        "jupyter": {
          "outputs_hidden": false
        },
        "application/vnd.databricks.v1+cell": {
          "title": "",
          "showTitle": false,
          "inputWidgets": {},
          "nuid": "6942691c-9901-44eb-a837-9e254e5b9927"
        },
        "colab": {
          "base_uri": "https://localhost:8080/"
        },
        "id": "12BSqICWxF00",
        "outputId": "16c709d3-f8d8-4e70-9519-1625f95df2c7"
      },
      "outputs": [
        {
          "output_type": "execute_result",
          "data": {
            "text/plain": [
              "2"
            ]
          },
          "metadata": {},
          "execution_count": 20
        }
      ],
      "execution_count": 20
    },
    {
      "cell_type": "markdown",
      "source": [
        "La siguiente figura muestra la relación entre la estructura de árbol y el elemento <code>NestedT[4][1][1]</code>:"
      ],
      "metadata": {
        "application/vnd.databricks.v1+cell": {
          "title": "",
          "showTitle": false,
          "inputWidgets": {},
          "nuid": "eee01e0e-b270-4b41-ad02-3acf422b557a"
        },
        "id": "mMhv2eIaxF00"
      }
    },
    {
      "cell_type": "markdown",
      "source": [
        "<img src=\"https://s3-api.us-geo.objectstorage.softlayer.net/cf-courses-data/CognitiveClass/PY0101EN/Chapter%202/Images/TuplesNestFour.gif\" width=\"750\" align=\"center\">"
      ],
      "metadata": {
        "application/vnd.databricks.v1+cell": {
          "title": "",
          "showTitle": false,
          "inputWidgets": {},
          "nuid": "7804b00e-9c21-4bbf-b21e-c1cc7070d98e"
        },
        "id": "fA1iNDwAxF00"
      }
    },
    {
      "cell_type": "markdown",
      "source": [
        "<h2 id=\"quiz\">Exámen sobre Tuplas</h2>"
      ],
      "metadata": {
        "application/vnd.databricks.v1+cell": {
          "title": "",
          "showTitle": false,
          "inputWidgets": {},
          "nuid": "e2561eb3-1d1f-41a5-a17e-18afc6925d1d"
        },
        "id": "0Vze3dOSxF00"
      }
    },
    {
      "cell_type": "markdown",
      "source": [
        "Considérese la siguiente tupla:"
      ],
      "metadata": {
        "application/vnd.databricks.v1+cell": {
          "title": "",
          "showTitle": false,
          "inputWidgets": {},
          "nuid": "7ff725b0-8a35-41cf-9d89-88425d0baa82"
        },
        "id": "jxbIg7tPxF00"
      }
    },
    {
      "cell_type": "code",
      "source": [
        "# Tupla de ejemplo\n",
        "# Tupla creada\n",
        "genres_tuple = (\"pop\", \"rock\", \"soul\", \"hard rock\", \"soft rock\", \\\n",
        "                \"R&B\", \"progressive rock\", \"disco\")\n",
        "# Se muestra la tupla\n",
        "genres_tuple"
      ],
      "metadata": {
        "jupyter": {
          "outputs_hidden": false
        },
        "application/vnd.databricks.v1+cell": {
          "title": "",
          "showTitle": false,
          "inputWidgets": {},
          "nuid": "297bf323-823f-4446-b6ca-55ef52d995ee"
        },
        "colab": {
          "base_uri": "https://localhost:8080/"
        },
        "id": "0GJvTjFNxF00",
        "outputId": "19f2ede4-6503-437e-fa40-e206a8a6dcf3"
      },
      "outputs": [
        {
          "output_type": "execute_result",
          "data": {
            "text/plain": [
              "('pop',\n",
              " 'rock',\n",
              " 'soul',\n",
              " 'hard rock',\n",
              " 'soft rock',\n",
              " 'R&B',\n",
              " 'progressive rock',\n",
              " 'disco')"
            ]
          },
          "metadata": {},
          "execution_count": 21
        }
      ],
      "execution_count": 21
    },
    {
      "cell_type": "markdown",
      "source": [
        "Encontrar la longitud de la tupla, <code>genres_tuple</code>:"
      ],
      "metadata": {
        "application/vnd.databricks.v1+cell": {
          "title": "",
          "showTitle": false,
          "inputWidgets": {},
          "nuid": "d244b988-895f-40d9-90e0-2251a473ff54"
        },
        "id": "gvRX6kllxF00"
      }
    },
    {
      "cell_type": "code",
      "source": [
        "# Escribe abajo tu código y presiona Shift+Enter para ejecutarlo\n",
        "# Se utiliza la función \"len\" para obtener la longitud de la tupla\n",
        "print(len(genres_tuple))"
      ],
      "metadata": {
        "jupyter": {
          "outputs_hidden": false
        },
        "application/vnd.databricks.v1+cell": {
          "title": "",
          "showTitle": false,
          "inputWidgets": {},
          "nuid": "b24b5ac5-e7d9-422e-a84a-48394c8c7ca3"
        },
        "colab": {
          "base_uri": "https://localhost:8080/"
        },
        "id": "tRTAlW3HxF00",
        "outputId": "894e199b-b692-4984-de6a-ff27705dd209"
      },
      "outputs": [
        {
          "output_type": "stream",
          "name": "stdout",
          "text": [
            "8\n"
          ]
        }
      ],
      "execution_count": 22
    },
    {
      "cell_type": "markdown",
      "source": [
        "<img src=\"https://s3-api.us-geo.objectstorage.softlayer.net/cf-courses-data/CognitiveClass/PY0101EN/Chapter%202/Images/TuplesQuiz.png\" width=\"1100\" align=\"center\">"
      ],
      "metadata": {
        "application/vnd.databricks.v1+cell": {
          "title": "",
          "showTitle": false,
          "inputWidgets": {},
          "nuid": "78148650-c13a-495b-b37c-63cbb74ad41f"
        },
        "id": "jQbmIO8axF01"
      }
    },
    {
      "cell_type": "markdown",
      "source": [
        "Haz doble clic __aquí__ para ver la solución.\n",
        "\n",
        "<!-- Your answer is below:\n",
        "len(genres_tuple)\n",
        "-->"
      ],
      "metadata": {
        "application/vnd.databricks.v1+cell": {
          "title": "",
          "showTitle": false,
          "inputWidgets": {},
          "nuid": "2884856e-e8c7-4121-81a8-ce1518fff8ac"
        },
        "id": "p2bVCQFOxF01"
      }
    },
    {
      "cell_type": "markdown",
      "source": [
        "Accede al elemento en el índice 3:"
      ],
      "metadata": {
        "application/vnd.databricks.v1+cell": {
          "title": "",
          "showTitle": false,
          "inputWidgets": {},
          "nuid": "ec47d71d-84cc-4422-88e7-a253ebe07945"
        },
        "id": "3k6qZLIBxF01"
      }
    },
    {
      "cell_type": "code",
      "source": [
        "# Escribe abajo tu código y presiona Shift+Enter para ejecutarlo\n",
        "# Se accede al elemtno mediante el indice solicitado \"3\" para obtener su contenido\n",
        "genres_tuple[3]"
      ],
      "metadata": {
        "jupyter": {
          "outputs_hidden": false
        },
        "application/vnd.databricks.v1+cell": {
          "title": "",
          "showTitle": false,
          "inputWidgets": {},
          "nuid": "44c71a5b-19b5-4628-a14f-6399a325d177"
        },
        "colab": {
          "base_uri": "https://localhost:8080/",
          "height": 35
        },
        "id": "1kqd6Qx6xF01",
        "outputId": "1e250791-557a-4428-f0c9-d3cf5138856b"
      },
      "outputs": [
        {
          "output_type": "execute_result",
          "data": {
            "text/plain": [
              "'hard rock'"
            ],
            "application/vnd.google.colaboratory.intrinsic+json": {
              "type": "string"
            }
          },
          "metadata": {},
          "execution_count": 23
        }
      ],
      "execution_count": 23
    },
    {
      "cell_type": "markdown",
      "source": [
        "Haz doble clic __aquí__ para ver la solución.\n",
        "\n",
        "<!-- Your answer is below:\n",
        "genres_tuple[3]\n",
        "-->"
      ],
      "metadata": {
        "application/vnd.databricks.v1+cell": {
          "title": "",
          "showTitle": false,
          "inputWidgets": {},
          "nuid": "7f58bb52-0e9d-451b-a190-ad78fc3771a9"
        },
        "id": "2quLdGPcxF01"
      }
    },
    {
      "cell_type": "markdown",
      "source": [
        "Utiliza el slicing para obtener los índices 3, 4 y 5:"
      ],
      "metadata": {
        "application/vnd.databricks.v1+cell": {
          "title": "",
          "showTitle": false,
          "inputWidgets": {},
          "nuid": "bd9b5565-de86-4065-9548-d365d68235f9"
        },
        "id": "OkmuirACxF01"
      }
    },
    {
      "cell_type": "code",
      "source": [
        "# Escribe abajo tu código y presiona Shift+Enter para ejecutarlo\n",
        "# Se usa slicing de 3 a 6 (sin incluir el 6) paras obtener datos 3, 4 y 5\n",
        "genres_tuple[3:6]"
      ],
      "metadata": {
        "jupyter": {
          "outputs_hidden": false
        },
        "application/vnd.databricks.v1+cell": {
          "title": "",
          "showTitle": false,
          "inputWidgets": {},
          "nuid": "3da462f7-dc82-4f65-8a29-d7212c5abd18"
        },
        "colab": {
          "base_uri": "https://localhost:8080/"
        },
        "id": "5qsFY31HxF01",
        "outputId": "e4c9e96d-df89-4352-b177-f5bbdc6e39e9"
      },
      "outputs": [
        {
          "output_type": "execute_result",
          "data": {
            "text/plain": [
              "('hard rock', 'soft rock', 'R&B')"
            ]
          },
          "metadata": {},
          "execution_count": 24
        }
      ],
      "execution_count": 24
    },
    {
      "cell_type": "markdown",
      "source": [
        "\n",
        "\n",
        "Haz doble clic __aquí__ para ver la solución.\n",
        "\n",
        "<!-- Your answer is below:\n",
        "genres_tuple[3:6]\n",
        "-->"
      ],
      "metadata": {
        "application/vnd.databricks.v1+cell": {
          "title": "",
          "showTitle": false,
          "inputWidgets": {},
          "nuid": "81d1ac0f-6abb-4084-9f0a-d7e99ebea0cc"
        },
        "id": "N3SKAH4UxF01"
      }
    },
    {
      "cell_type": "markdown",
      "source": [
        "Encuentra los primeros dos elementos de la tupla <code>genres_tuple</code>:"
      ],
      "metadata": {
        "application/vnd.databricks.v1+cell": {
          "title": "",
          "showTitle": false,
          "inputWidgets": {},
          "nuid": "cdda5e10-8f24-4c39-a125-56457fa4cdcf"
        },
        "id": "ZFYAIAKgxF01"
      }
    },
    {
      "cell_type": "code",
      "source": [
        "# Escribe abajo tu código y presiona Shift+Enter para ejecutarlo\n",
        "# Se usa slicing para obtener los 2 primeros valores de la tupla\n",
        "genres_tuple[0:2]"
      ],
      "metadata": {
        "jupyter": {
          "outputs_hidden": false
        },
        "application/vnd.databricks.v1+cell": {
          "title": "",
          "showTitle": false,
          "inputWidgets": {},
          "nuid": "21c5a8d4-abd2-4e0b-bf22-32ed42bad159"
        },
        "colab": {
          "base_uri": "https://localhost:8080/"
        },
        "id": "tah5hBfwxF01",
        "outputId": "76945277-7a16-494c-e1ff-9d9b8ef6d946"
      },
      "outputs": [
        {
          "output_type": "execute_result",
          "data": {
            "text/plain": [
              "('pop', 'rock')"
            ]
          },
          "metadata": {},
          "execution_count": 25
        }
      ],
      "execution_count": 25
    },
    {
      "cell_type": "markdown",
      "source": [
        "Haz doble clic __aquí__ para ver la solución.\n",
        "\n",
        "<!-- Your answer is below:\n",
        "genres_tuple[0:2]\n",
        "-->"
      ],
      "metadata": {
        "application/vnd.databricks.v1+cell": {
          "title": "",
          "showTitle": false,
          "inputWidgets": {},
          "nuid": "e5748576-bda3-4412-9644-f95b7914fc09"
        },
        "id": "BFfBocCBxF01"
      }
    },
    {
      "cell_type": "markdown",
      "source": [
        "Encuentra el primer índice de <code>\"disco\"</code>:"
      ],
      "metadata": {
        "application/vnd.databricks.v1+cell": {
          "title": "",
          "showTitle": false,
          "inputWidgets": {},
          "nuid": "0ff77f26-92fd-4bc0-b6c1-ed1ff21d370e"
        },
        "id": "m_5bLDTzxF01"
      }
    },
    {
      "cell_type": "code",
      "source": [
        "# Escribe abajo tu código y presiona Shift+Enter para ejecutarlo\n",
        "# Se utiliza la función \".index\" para obtener el primer indice del contenido solicitado\n",
        "genres_tuple.index(\"disco\")"
      ],
      "metadata": {
        "jupyter": {
          "outputs_hidden": false
        },
        "application/vnd.databricks.v1+cell": {
          "title": "",
          "showTitle": false,
          "inputWidgets": {},
          "nuid": "675b5d81-5b90-4c7f-879b-2c89b84a06ce"
        },
        "colab": {
          "base_uri": "https://localhost:8080/"
        },
        "id": "Ho8MFYgOxF01",
        "outputId": "9bb2e21a-750a-4da8-dbb7-5e6bcb664f7d"
      },
      "outputs": [
        {
          "output_type": "execute_result",
          "data": {
            "text/plain": [
              "7"
            ]
          },
          "metadata": {},
          "execution_count": 26
        }
      ],
      "execution_count": 26
    },
    {
      "cell_type": "markdown",
      "source": [
        "Haz doble clic __aquí__ para ver la solución.\n",
        "\n",
        "<!-- Your answer is below:\n",
        "genres_tuple.index(\"disco\")\n",
        "-->"
      ],
      "metadata": {
        "application/vnd.databricks.v1+cell": {
          "title": "",
          "showTitle": false,
          "inputWidgets": {},
          "nuid": "ea8ee142-9b31-4f83-90da-6fa6a5c5ac61"
        },
        "id": "B7H_phm_xF01"
      }
    },
    {
      "cell_type": "markdown",
      "source": [
        "Genera una lista ordenada desde la tupla <code>C_tuple=(-5, 1, -3)</code>:"
      ],
      "metadata": {
        "application/vnd.databricks.v1+cell": {
          "title": "",
          "showTitle": false,
          "inputWidgets": {},
          "nuid": "2d789f30-7a08-415e-b162-f6bfcd75a9c6"
        },
        "id": "In3ea2BExF02"
      }
    },
    {
      "cell_type": "code",
      "source": [
        "# Escribe abajo tu código y presiona Shift+Enter para ejecutarlo\n",
        "# Se inicia creando la tupla\n",
        "C_tuple=(-5, 1, -3)\n",
        "# Se utiliza la funcion \"sorted\" para ordenar la tupla y almacenarla en una nueva tupla\n",
        "SortedTuple=sorted(C_tuple)\n",
        "# Finalmente, se imprime la tupla correspondiente\n",
        "print(SortedTuple)"
      ],
      "metadata": {
        "jupyter": {
          "outputs_hidden": false
        },
        "application/vnd.databricks.v1+cell": {
          "title": "",
          "showTitle": false,
          "inputWidgets": {},
          "nuid": "ccb2137d-68c2-45bc-a1f0-e7152ad13bbb"
        },
        "colab": {
          "base_uri": "https://localhost:8080/"
        },
        "id": "cSVYW0r6xF02",
        "outputId": "071deb0f-ac6e-4a37-81b5-3b6662844bdd"
      },
      "outputs": [
        {
          "output_type": "stream",
          "name": "stdout",
          "text": [
            "[-5, -3, 1]\n"
          ]
        }
      ],
      "execution_count": 27
    },
    {
      "cell_type": "markdown",
      "source": [
        "Haz doble clic __aquí__ para ver la solución.\n",
        "\n",
        "<!-- Your answer is below:\n",
        "C_tuple = (-5, 1, -3)\n",
        "C_list = sorted(C_tuple)\n",
        "C_list\n",
        "-->"
      ],
      "metadata": {
        "application/vnd.databricks.v1+cell": {
          "title": "",
          "showTitle": false,
          "inputWidgets": {},
          "nuid": "c875eb56-4ee8-446e-9cb3-c519a0818595"
        },
        "id": "e_tE1dIIxF02"
      }
    }
  ],
  "metadata": {
    "kernelspec": {
      "display_name": "Python 3",
      "language": "python",
      "name": "python3"
    },
    "language_info": {
      "mimetype": "text/x-python",
      "name": "python",
      "pygments_lexer": "ipython3",
      "codemirror_mode": {
        "name": "ipython",
        "version": 3
      },
      "version": "3.8.3",
      "nbconvert_exporter": "python",
      "file_extension": ".py"
    },
    "application/vnd.databricks.v1+notebook": {
      "notebookName": "02-Python-Tuplas",
      "dashboards": [],
      "notebookMetadata": {
        "pythonIndentUnit": 2
      },
      "language": "python",
      "widgets": {},
      "notebookOrigID": 3296315911138266
    },
    "colab": {
      "provenance": []
    }
  },
  "nbformat": 4,
  "nbformat_minor": 0
}