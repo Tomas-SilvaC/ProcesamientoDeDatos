{
  "cells": [
    {
      "cell_type": "markdown",
      "source": [
        "<h1>Procesamiento de Datos a Gran Escala</h1>"
      ],
      "metadata": {
        "application/vnd.databricks.v1+cell": {
          "title": "",
          "showTitle": false,
          "inputWidgets": {},
          "nuid": "65c3d562-8f12-4b16-b6f3-cb3ff1bdcde4"
        },
        "id": "GGNvZoT07vcr"
      }
    },
    {
      "cell_type": "markdown",
      "source": [
        "# **Pontificia Universidad Javeriana**\n",
        "##**Tomas Alejandro Silva Correal**\n",
        "\n",
        "**10 de Agosto de 2025**\n",
        "\n",
        "**Cuadernos Ejercicios de Python Procesamiento de Datos 2530**"
      ],
      "metadata": {
        "id": "DN81P0jg71Fq"
      }
    },
    {
      "cell_type": "markdown",
      "source": [
        "<h2>Conjuntos en Python</h2>"
      ],
      "metadata": {
        "application/vnd.databricks.v1+cell": {
          "title": "",
          "showTitle": false,
          "inputWidgets": {},
          "nuid": "4182cfaa-6acc-4585-a8ae-901617e5c908"
        },
        "id": "UlmmR08z7vct"
      }
    },
    {
      "cell_type": "markdown",
      "source": [
        "**Descripción:**\n",
        "\n",
        "\n",
        "Este taller trabaja los fundamentos de Listas y fundamentos de listas junto a operaciones y algoritmos en python. Al final de este cuaderno se encuentran ejercicios resueltos de dichos fundamentos y operaciones.\n",
        "\n",
        "</div>\n",
        "\n",
        "<hr>"
      ],
      "metadata": {
        "application/vnd.databricks.v1+cell": {
          "title": "",
          "showTitle": false,
          "inputWidgets": {},
          "nuid": "da70c336-dee2-4ba5-9f4a-35b4ea98fe2c"
        },
        "id": "cXOCHtJX7vct"
      }
    },
    {
      "cell_type": "markdown",
      "source": [
        "<h2>Tabla de Contenido</h2>\n",
        "<div class=\"alert alert-block alert-info\" style=\"margin-top: 20px\">\n",
        "    <ul>\n",
        "        <li>\n",
        "            <a href=\"#set\">Conjuntos</a>\n",
        "            <ul>\n",
        "                <li><a href=\"content\">Contenido de un Conjunto</a></li>\n",
        "                <li><a href=\"op\">Operaciones con Conjuntos</a></li>\n",
        "                <li><a href=\"logic\">Operacion Lógicas con Conjuntos</a></li>\n",
        "            </ul>\n",
        "        </li>\n",
        "        <li>\n",
        "            <a href=\"#quiz\">Cuestionario sobre conjuntos</a>\n",
        "        </li>\n",
        "    </ul>\n",
        "    <p>\n",
        "        Tiempo Estimado: <strong>20 min</strong>\n",
        "    </p>\n",
        "</div>\n",
        "\n",
        "<hr>"
      ],
      "metadata": {
        "application/vnd.databricks.v1+cell": {
          "title": "",
          "showTitle": false,
          "inputWidgets": {},
          "nuid": "0e159791-cf95-4e09-a881-de7f5f09c12c"
        },
        "id": "q8AHetNK7vcu"
      }
    },
    {
      "cell_type": "markdown",
      "source": [
        "<h2 id=\"set\">Conjuntos</h2>"
      ],
      "metadata": {
        "application/vnd.databricks.v1+cell": {
          "title": "",
          "showTitle": false,
          "inputWidgets": {},
          "nuid": "d31d7190-d92b-4fb3-b1aa-46f07e6fddac"
        },
        "id": "sP6sIulB7vcu"
      }
    },
    {
      "cell_type": "markdown",
      "source": [
        "<h3 id=\"content\">Contenido de un Conjunto</h3>"
      ],
      "metadata": {
        "application/vnd.databricks.v1+cell": {
          "title": "",
          "showTitle": false,
          "inputWidgets": {},
          "nuid": "5f3c8d3b-651d-429e-ae54-69d566048296"
        },
        "id": "XjfMHtdc7vcv"
      }
    },
    {
      "cell_type": "markdown",
      "source": [
        "Un conjunto es una colección de objetos únicos en Python. Un conjunto se define usando llaves de apertura y cierre <b>{}</b>. Python removerá automáticamente elementos duplicados."
      ],
      "metadata": {
        "application/vnd.databricks.v1+cell": {
          "title": "",
          "showTitle": false,
          "inputWidgets": {},
          "nuid": "ee569271-f4ad-4326-bd54-f859b3808514"
        },
        "id": "LBRzCN_A7vcv"
      }
    },
    {
      "cell_type": "code",
      "source": [
        "# Crear un conjunto\n",
        "\n",
        "set1 = {\"pop\", \"rock\", \"soul\", \"hard rock\", \"rock\", \"R&B\", \"rock\", \"disco\"}\n",
        "set1"
      ],
      "metadata": {
        "application/vnd.databricks.v1+cell": {
          "title": "",
          "showTitle": false,
          "inputWidgets": {},
          "nuid": "eed936cb-a07f-430a-8a62-efc6a522001c"
        },
        "colab": {
          "base_uri": "https://localhost:8080/"
        },
        "id": "OHVTTmYG7vcv",
        "outputId": "4f75c4b0-ddcd-4aa5-9b35-152eb0d266d5"
      },
      "outputs": [
        {
          "output_type": "execute_result",
          "data": {
            "text/plain": [
              "{'R&B', 'disco', 'hard rock', 'pop', 'rock', 'soul'}"
            ]
          },
          "metadata": {},
          "execution_count": 1
        }
      ],
      "execution_count": 1
    },
    {
      "cell_type": "markdown",
      "source": [
        "El proceso de mapeado se muestra en la siguiente figura:"
      ],
      "metadata": {
        "application/vnd.databricks.v1+cell": {
          "title": "",
          "showTitle": false,
          "inputWidgets": {},
          "nuid": "d63cd755-204f-4266-8279-924ead0cead9"
        },
        "id": "_5yEh_C47vcw"
      }
    },
    {
      "cell_type": "markdown",
      "source": [
        "<img src=\"https://s3-api.us-geo.objectstorage.softlayer.net/cf-courses-data/CognitiveClass/PY0101EN/Chapter%202/Images/SetsUnique.png\" width=\"1100\" />"
      ],
      "metadata": {
        "application/vnd.databricks.v1+cell": {
          "title": "",
          "showTitle": false,
          "inputWidgets": {},
          "nuid": "8f17cf2e-5206-4372-ae1c-947bbda18b19"
        },
        "id": "X60srGl07vcw"
      }
    },
    {
      "cell_type": "markdown",
      "source": [
        "También se puede crear un conjunto a partir de una lista:"
      ],
      "metadata": {
        "application/vnd.databricks.v1+cell": {
          "title": "",
          "showTitle": false,
          "inputWidgets": {},
          "nuid": "1c7b5d30-5ec1-46d7-910b-11c0eeea2166"
        },
        "id": "ppC_cL4L7vcw"
      }
    },
    {
      "cell_type": "code",
      "source": [
        "# Convertir una lista en un conjunto\n",
        "\n",
        "album_list = [ \"Michael Jackson\", \"Thriller\", 1982, \"00:42:19\", \\\n",
        "              \"Pop, Rock, R&B\", 46.0, 65, \"30-Nov-82\", None, 10.0]\n",
        "album_set = set(album_list)\n",
        "album_set"
      ],
      "metadata": {
        "scrolled": true,
        "application/vnd.databricks.v1+cell": {
          "title": "",
          "showTitle": false,
          "inputWidgets": {},
          "nuid": "b50e128e-0bee-4451-9edd-910e50381125"
        },
        "colab": {
          "base_uri": "https://localhost:8080/"
        },
        "id": "2cg7Q4sN7vcx",
        "outputId": "bf8f0938-5a26-4612-b494-abeb1a687087"
      },
      "outputs": [
        {
          "output_type": "execute_result",
          "data": {
            "text/plain": [
              "{'00:42:19',\n",
              " 10.0,\n",
              " 1982,\n",
              " '30-Nov-82',\n",
              " 46.0,\n",
              " 65,\n",
              " 'Michael Jackson',\n",
              " None,\n",
              " 'Pop, Rock, R&B',\n",
              " 'Thriller'}"
            ]
          },
          "metadata": {},
          "execution_count": 2
        }
      ],
      "execution_count": 2
    },
    {
      "cell_type": "markdown",
      "source": [
        "Vamos a crear un conjunto de géneros musicales:"
      ],
      "metadata": {
        "application/vnd.databricks.v1+cell": {
          "title": "",
          "showTitle": false,
          "inputWidgets": {},
          "nuid": "d348404e-048e-492c-90e6-8c4d0b5c45b5"
        },
        "id": "P4US_Erb7vcx"
      }
    },
    {
      "cell_type": "code",
      "source": [
        "# Convertir una lista en un conjunto\n",
        "\n",
        "music_genres = set([\"pop\", \"pop\", \"rock\", \"folk rock\", \"hard rock\", \"soul\", \\\n",
        "                    \"progressive rock\", \"soft rock\", \"R&B\", \"disco\"])\n",
        "music_genres"
      ],
      "metadata": {
        "application/vnd.databricks.v1+cell": {
          "title": "",
          "showTitle": false,
          "inputWidgets": {},
          "nuid": "740f8ead-03ee-4bdb-8395-9c4e9b1cd181"
        },
        "colab": {
          "base_uri": "https://localhost:8080/"
        },
        "id": "YewjAqnB7vcx",
        "outputId": "19632529-98a4-4e00-87b3-080b30f11ac5"
      },
      "outputs": [
        {
          "output_type": "execute_result",
          "data": {
            "text/plain": [
              "{'R&B',\n",
              " 'disco',\n",
              " 'folk rock',\n",
              " 'hard rock',\n",
              " 'pop',\n",
              " 'progressive rock',\n",
              " 'rock',\n",
              " 'soft rock',\n",
              " 'soul'}"
            ]
          },
          "metadata": {},
          "execution_count": 3
        }
      ],
      "execution_count": 3
    },
    {
      "cell_type": "markdown",
      "source": [
        "<h3 id=\"op\">Operaciones con Conjuntos</h3>"
      ],
      "metadata": {
        "application/vnd.databricks.v1+cell": {
          "title": "",
          "showTitle": false,
          "inputWidgets": {},
          "nuid": "e3effa51-8b0b-464a-8395-76d29ceacc7d"
        },
        "id": "gwPXB0wC7vcx"
      }
    },
    {
      "cell_type": "markdown",
      "source": [
        "Vamos a revisar las operaciones con conjuntos que nos ayudaran a modificarlo. Considera el conjunto <b>A</b>:"
      ],
      "metadata": {
        "application/vnd.databricks.v1+cell": {
          "title": "",
          "showTitle": false,
          "inputWidgets": {},
          "nuid": "83497af3-8c18-4cf1-811a-4be29d6e122c"
        },
        "id": "hgYKqkfP7vcx"
      }
    },
    {
      "cell_type": "code",
      "source": [
        "# Conjunto de ejemplo\n",
        "\n",
        "A = set([\"Thriller\", \"Back in Black\", \"AC/DC\"])\n",
        "A"
      ],
      "metadata": {
        "application/vnd.databricks.v1+cell": {
          "title": "",
          "showTitle": false,
          "inputWidgets": {},
          "nuid": "fd311c8e-a689-4f52-a20e-95fee3e4fede"
        },
        "colab": {
          "base_uri": "https://localhost:8080/"
        },
        "id": "W5YEaziN7vcx",
        "outputId": "9283b521-4344-446b-90e6-0fe0e60b3e40"
      },
      "outputs": [
        {
          "output_type": "execute_result",
          "data": {
            "text/plain": [
              "{'AC/DC', 'Back in Black', 'Thriller'}"
            ]
          },
          "metadata": {},
          "execution_count": 4
        }
      ],
      "execution_count": 4
    },
    {
      "cell_type": "markdown",
      "source": [
        "Podemos agregar un elemento al conjunto mediante el método <code>add()</code>:"
      ],
      "metadata": {
        "application/vnd.databricks.v1+cell": {
          "title": "",
          "showTitle": false,
          "inputWidgets": {},
          "nuid": "3c99d89f-0876-4608-b2e1-5a84b2ec95ab"
        },
        "id": "0OX61QTX7vcx"
      }
    },
    {
      "cell_type": "code",
      "source": [
        "# Agregar un elemento al conjunto\n",
        "\n",
        "A.add(\"NSYNC\")\n",
        "A"
      ],
      "metadata": {
        "application/vnd.databricks.v1+cell": {
          "title": "",
          "showTitle": false,
          "inputWidgets": {},
          "nuid": "2bbfa359-b24d-497e-9048-e46d695684c8"
        },
        "colab": {
          "base_uri": "https://localhost:8080/"
        },
        "id": "FlTITfUQ7vcx",
        "outputId": "2a5ac6db-75d2-4024-ca8b-3771ea2e16df"
      },
      "outputs": [
        {
          "output_type": "execute_result",
          "data": {
            "text/plain": [
              "{'AC/DC', 'Back in Black', 'NSYNC', 'Thriller'}"
            ]
          },
          "metadata": {},
          "execution_count": 5
        }
      ],
      "execution_count": 5
    },
    {
      "cell_type": "markdown",
      "source": [
        "Si agregamos el mismo elemento dos veces nada cambiara debido a que no puede haber elemento duplicados en un conjunto:"
      ],
      "metadata": {
        "application/vnd.databricks.v1+cell": {
          "title": "",
          "showTitle": false,
          "inputWidgets": {},
          "nuid": "d71d14f2-528e-42ad-8d96-0480adb07e02"
        },
        "id": "1Rt6vJZT7vcx"
      }
    },
    {
      "cell_type": "code",
      "source": [
        "# Trata de agregar un elemento duplicado al conjunto\n",
        "\n",
        "A.add(\"NSYNC\")\n",
        "A"
      ],
      "metadata": {
        "application/vnd.databricks.v1+cell": {
          "title": "",
          "showTitle": false,
          "inputWidgets": {},
          "nuid": "8d5a9b89-3c15-4385-9b4b-57a735bc3267"
        },
        "colab": {
          "base_uri": "https://localhost:8080/"
        },
        "id": "hSIs0Ls37vcx",
        "outputId": "143c3af3-0680-427f-d172-c3caee3445df"
      },
      "outputs": [
        {
          "output_type": "execute_result",
          "data": {
            "text/plain": [
              "{'AC/DC', 'Back in Black', 'NSYNC', 'Thriller'}"
            ]
          },
          "metadata": {},
          "execution_count": 6
        }
      ],
      "execution_count": 6
    },
    {
      "cell_type": "markdown",
      "source": [
        "Podemos borrar un elemento del conjunto mediante el método <code>remove</code>:"
      ],
      "metadata": {
        "application/vnd.databricks.v1+cell": {
          "title": "",
          "showTitle": false,
          "inputWidgets": {},
          "nuid": "ab18cd1d-6368-402f-82ba-d129b581d94c"
        },
        "id": "gQA0fa-07vcy"
      }
    },
    {
      "cell_type": "code",
      "source": [
        "# Remover un elemento del conjunto\n",
        "\n",
        "A.remove(\"NSYNC\")\n",
        "A"
      ],
      "metadata": {
        "application/vnd.databricks.v1+cell": {
          "title": "",
          "showTitle": false,
          "inputWidgets": {},
          "nuid": "e2894814-1d63-4d01-b9f0-d27873e386f1"
        },
        "colab": {
          "base_uri": "https://localhost:8080/"
        },
        "id": "g3TqWnK67vcy",
        "outputId": "751df16e-08d0-4872-de10-09b6b03c752e"
      },
      "outputs": [
        {
          "output_type": "execute_result",
          "data": {
            "text/plain": [
              "{'AC/DC', 'Back in Black', 'Thriller'}"
            ]
          },
          "metadata": {},
          "execution_count": 7
        }
      ],
      "execution_count": 7
    },
    {
      "cell_type": "markdown",
      "source": [
        "Podemos verificar si existe un elemento especifico dentro del conjunto con el comando <code>in</code>:"
      ],
      "metadata": {
        "application/vnd.databricks.v1+cell": {
          "title": "",
          "showTitle": false,
          "inputWidgets": {},
          "nuid": "adb18837-3bea-48dc-96b0-ffd51e873a61"
        },
        "id": "H-2VOzRC7vcy"
      }
    },
    {
      "cell_type": "code",
      "source": [
        "# Verificar si existe un elemento en el conjunto\n",
        "\n",
        "\"AC/DC\" in A"
      ],
      "metadata": {
        "application/vnd.databricks.v1+cell": {
          "title": "",
          "showTitle": false,
          "inputWidgets": {},
          "nuid": "b96d7b9c-e2a6-4526-9164-f71639ee6448"
        },
        "colab": {
          "base_uri": "https://localhost:8080/"
        },
        "id": "PKtZhx6M7vcy",
        "outputId": "10ee2b99-7bb4-4401-8ded-10ea1b69ac49"
      },
      "outputs": [
        {
          "output_type": "execute_result",
          "data": {
            "text/plain": [
              "True"
            ]
          },
          "metadata": {},
          "execution_count": 8
        }
      ],
      "execution_count": 8
    },
    {
      "cell_type": "markdown",
      "source": [
        "<h3 id=\"logic\">Operacion Lógicas con Conjuntos</h3>"
      ],
      "metadata": {
        "application/vnd.databricks.v1+cell": {
          "title": "",
          "showTitle": false,
          "inputWidgets": {},
          "nuid": "422b5543-1340-4d4e-b38d-a5223fab3e6e"
        },
        "id": "zCxfVtlY7vcy"
      }
    },
    {
      "cell_type": "markdown",
      "source": [
        "Recuerda que puedes revisar la diferencia entre dos conjuntos, así como la diferencia simétrica, intersección y unión:"
      ],
      "metadata": {
        "application/vnd.databricks.v1+cell": {
          "title": "",
          "showTitle": false,
          "inputWidgets": {},
          "nuid": "4a4edda5-3034-42d1-a275-6cb64904c804"
        },
        "id": "3k7VslGO7vcy"
      }
    },
    {
      "cell_type": "markdown",
      "source": [
        "Considera estos dos conjuntos:"
      ],
      "metadata": {
        "application/vnd.databricks.v1+cell": {
          "title": "",
          "showTitle": false,
          "inputWidgets": {},
          "nuid": "5fed6cc6-cdb4-4a1f-9d2a-522eb0d83331"
        },
        "id": "HOXqPtcZ7vcy"
      }
    },
    {
      "cell_type": "code",
      "source": [
        "# Conjuntos de ejemplo\n",
        "\n",
        "album_set1 = set([\"Thriller\", 'AC/DC', 'Back in Black'])\n",
        "album_set2 = set([ \"AC/DC\", \"Back in Black\", \"The Dark Side of the Moon\"])"
      ],
      "metadata": {
        "application/vnd.databricks.v1+cell": {
          "title": "",
          "showTitle": false,
          "inputWidgets": {},
          "nuid": "92b27aaa-e2e3-4da5-9176-e0dbdb138e38"
        },
        "id": "4o31PMcv7vcy"
      },
      "outputs": [],
      "execution_count": 9
    },
    {
      "cell_type": "markdown",
      "source": [
        "<img src=\"https://s3-api.us-geo.objectstorage.softlayer.net/cf-courses-data/CognitiveClass/PY0101EN/Chapter%202/Images/SetsSamples.png\" width=\"650\" />"
      ],
      "metadata": {
        "application/vnd.databricks.v1+cell": {
          "title": "",
          "showTitle": false,
          "inputWidgets": {},
          "nuid": "a1cda677-0e93-4eeb-aa36-6328db70042a"
        },
        "id": "VzrYNjwM7vcy"
      }
    },
    {
      "cell_type": "code",
      "source": [
        "# Imprimir dos conjuntos\n",
        "\n",
        "album_set1, album_set2"
      ],
      "metadata": {
        "scrolled": true,
        "application/vnd.databricks.v1+cell": {
          "title": "",
          "showTitle": false,
          "inputWidgets": {},
          "nuid": "875280c6-741e-4537-a381-0eb5521e86d1"
        },
        "colab": {
          "base_uri": "https://localhost:8080/"
        },
        "id": "_DFwlXnj7vcy",
        "outputId": "03871f63-6b46-4d3e-bdbd-1338cd362717"
      },
      "outputs": [
        {
          "output_type": "execute_result",
          "data": {
            "text/plain": [
              "({'AC/DC', 'Back in Black', 'Thriller'},\n",
              " {'AC/DC', 'Back in Black', 'The Dark Side of the Moon'})"
            ]
          },
          "metadata": {},
          "execution_count": 10
        }
      ],
      "execution_count": 10
    },
    {
      "cell_type": "markdown",
      "source": [
        "Como los dos conjuntos contienen <b>AC/DC</b> y <b>Back in Black</b> podemos representar estos elementos en común en la intersección de dos círculos."
      ],
      "metadata": {
        "application/vnd.databricks.v1+cell": {
          "title": "",
          "showTitle": false,
          "inputWidgets": {},
          "nuid": "77d89d4b-c3a3-4144-91eb-373a72491c97"
        },
        "id": "JZsfv72O7vcy"
      }
    },
    {
      "cell_type": "markdown",
      "source": [
        "<img src = \"https://s3-api.us-geo.objectstorage.softlayer.net/cf-courses-data/CognitiveClass/PY0101EN/Chapter%202/Images/SetsLogic.png\" width = \"650\" />"
      ],
      "metadata": {
        "application/vnd.databricks.v1+cell": {
          "title": "",
          "showTitle": false,
          "inputWidgets": {},
          "nuid": "eede0354-4f8e-4cd0-9a85-d176ebc75537"
        },
        "id": "owsaSVj87vcy"
      }
    },
    {
      "cell_type": "markdown",
      "source": [
        "Para encontrar la intersección de dos conjuntos usaremos <code>&</code>:"
      ],
      "metadata": {
        "application/vnd.databricks.v1+cell": {
          "title": "",
          "showTitle": false,
          "inputWidgets": {},
          "nuid": "1902d5a0-6b7c-445c-9d63-dc2ac3927ceb"
        },
        "id": "tQbL53SB7vcy"
      }
    },
    {
      "cell_type": "code",
      "source": [
        "# Encontrar las intersecciones\n",
        "\n",
        "intersection = album_set1 & album_set2\n",
        "intersection"
      ],
      "metadata": {
        "application/vnd.databricks.v1+cell": {
          "title": "",
          "showTitle": false,
          "inputWidgets": {},
          "nuid": "00cfc994-9fde-4110-baf0-253d71b113fa"
        },
        "colab": {
          "base_uri": "https://localhost:8080/"
        },
        "id": "1lWH1-s67vcy",
        "outputId": "90f9eefd-e0f4-4390-b519-daaa3664de69"
      },
      "outputs": [
        {
          "output_type": "execute_result",
          "data": {
            "text/plain": [
              "{'AC/DC', 'Back in Black'}"
            ]
          },
          "metadata": {},
          "execution_count": 11
        }
      ],
      "execution_count": 11
    },
    {
      "cell_type": "markdown",
      "source": [
        "Puedes encontrar los elementos que únicamente están dentro de <code>album_set1</code> usando el método <code>difference</code>:"
      ],
      "metadata": {
        "application/vnd.databricks.v1+cell": {
          "title": "",
          "showTitle": false,
          "inputWidgets": {},
          "nuid": "4fe67355-6a42-4394-9890-8db00ec40709"
        },
        "id": "zsGJwu0G7vcy"
      }
    },
    {
      "cell_type": "code",
      "source": [
        "# Encuentra la diferencia en set1 pero no en set2\n",
        "\n",
        "album_set1.difference(album_set2)"
      ],
      "metadata": {
        "application/vnd.databricks.v1+cell": {
          "title": "",
          "showTitle": false,
          "inputWidgets": {},
          "nuid": "9a0fa71e-f553-4a53-b7e1-49ef5003f39b"
        },
        "colab": {
          "base_uri": "https://localhost:8080/"
        },
        "id": "tlmMU9-H7vcz",
        "outputId": "2d089ab3-7d9c-4379-b83e-b4776bdae96c"
      },
      "outputs": [
        {
          "output_type": "execute_result",
          "data": {
            "text/plain": [
              "{'Thriller'}"
            ]
          },
          "metadata": {},
          "execution_count": 12
        }
      ],
      "execution_count": 12
    },
    {
      "cell_type": "markdown",
      "source": [
        "Solo tienes que considerar los elementos en <code>album_set1</code>; todos los de <code>album_set2</code>, incluyendo los de la intersección, no están incluidos."
      ],
      "metadata": {
        "application/vnd.databricks.v1+cell": {
          "title": "",
          "showTitle": false,
          "inputWidgets": {},
          "nuid": "176cb24e-94ff-49fd-8053-6a896db9e102"
        },
        "id": "POBj9WXz7vcz"
      }
    },
    {
      "cell_type": "markdown",
      "source": [
        "<img src=\"https://s3-api.us-geo.objectstorage.softlayer.net/cf-courses-data/CognitiveClass/PY0101EN/Chapter%202/Images/SetsLeft.png\" width=\"650\" />"
      ],
      "metadata": {
        "application/vnd.databricks.v1+cell": {
          "title": "",
          "showTitle": false,
          "inputWidgets": {},
          "nuid": "2c0b8812-8ef3-481c-93d6-d2d289aafb3a"
        },
        "id": "6hd4xNAP7vcz"
      }
    },
    {
      "cell_type": "markdown",
      "source": [
        "Los elementos que pertenecen a <code>album_set2</code> pero no en <code>album_set1</code> esta dado por:"
      ],
      "metadata": {
        "application/vnd.databricks.v1+cell": {
          "title": "",
          "showTitle": false,
          "inputWidgets": {},
          "nuid": "210f5c42-3630-4142-a81c-23271e0c3de8"
        },
        "id": "RhYFxncV7vc2"
      }
    },
    {
      "cell_type": "code",
      "source": [
        "album_set2.difference(album_set1)"
      ],
      "metadata": {
        "application/vnd.databricks.v1+cell": {
          "title": "",
          "showTitle": false,
          "inputWidgets": {},
          "nuid": "7dfdd9c9-5070-450a-8454-cc1ba2ae46d4"
        },
        "colab": {
          "base_uri": "https://localhost:8080/"
        },
        "id": "YIwElAgo7vc3",
        "outputId": "526be611-2bd0-447c-eae8-635914f7b492"
      },
      "outputs": [
        {
          "output_type": "execute_result",
          "data": {
            "text/plain": [
              "{'The Dark Side of the Moon'}"
            ]
          },
          "metadata": {},
          "execution_count": 13
        }
      ],
      "execution_count": 13
    },
    {
      "cell_type": "markdown",
      "source": [
        "<img src = \"https://s3-api.us-geo.objectstorage.softlayer.net/cf-courses-data/CognitiveClass/PY0101EN/Chapter%202/Images/SetsRight.png\" width=\"650\" />"
      ],
      "metadata": {
        "application/vnd.databricks.v1+cell": {
          "title": "",
          "showTitle": false,
          "inputWidgets": {},
          "nuid": "9b679807-eddd-458f-9ada-29d693afd1eb"
        },
        "id": "PvOsk1cQ7vc3"
      }
    },
    {
      "cell_type": "markdown",
      "source": [
        "Puedes encontrar la intersección de <code>album_list1</code> y <code>album_list2</code> con el método <code>intersection</code>:"
      ],
      "metadata": {
        "application/vnd.databricks.v1+cell": {
          "title": "",
          "showTitle": false,
          "inputWidgets": {},
          "nuid": "b3730931-7397-4a5e-8b4c-be08e63605cd"
        },
        "id": "IxInWv5H7vc3"
      }
    },
    {
      "cell_type": "code",
      "source": [
        "# Usar el método intersection para encontrar la intersección entre of album_list1 y album_list2\n",
        "\n",
        "album_set1.intersection(album_set2)"
      ],
      "metadata": {
        "application/vnd.databricks.v1+cell": {
          "title": "",
          "showTitle": false,
          "inputWidgets": {},
          "nuid": "81ba2110-0edb-4512-bd98-f8dcaf3fc343"
        },
        "colab": {
          "base_uri": "https://localhost:8080/"
        },
        "id": "xNEsccY17vc3",
        "outputId": "70d43357-0f8d-4ea3-a58e-0d5d5e5d2062"
      },
      "outputs": [
        {
          "output_type": "execute_result",
          "data": {
            "text/plain": [
              "{'AC/DC', 'Back in Black'}"
            ]
          },
          "metadata": {},
          "execution_count": 14
        }
      ],
      "execution_count": 14
    },
    {
      "cell_type": "markdown",
      "source": [
        "Lo siguiente corresponde a la intersección de los dos círculos:"
      ],
      "metadata": {
        "application/vnd.databricks.v1+cell": {
          "title": "",
          "showTitle": false,
          "inputWidgets": {},
          "nuid": "96181e68-5a1c-4d4c-8df3-fedadd115391"
        },
        "id": "vF8e25cy7vc4"
      }
    },
    {
      "cell_type": "markdown",
      "source": [
        "<img src=\"https://s3-api.us-geo.objectstorage.softlayer.net/cf-courses-data/CognitiveClass/PY0101EN/Chapter%202/Images/SetsIntersect.png\" width=\"650\" />"
      ],
      "metadata": {
        "application/vnd.databricks.v1+cell": {
          "title": "",
          "showTitle": false,
          "inputWidgets": {},
          "nuid": "ad80023a-2794-4095-8129-c44a3b5d508e"
        },
        "id": "7QWXbcZB7vc4"
      }
    },
    {
      "cell_type": "markdown",
      "source": [
        "La unión es la suma de todos los elementos de ambos conjuntos, se representa pintando los dos círculos:"
      ],
      "metadata": {
        "application/vnd.databricks.v1+cell": {
          "title": "",
          "showTitle": false,
          "inputWidgets": {},
          "nuid": "22aaeb36-61e7-42fd-ad69-5c8b7f376a39"
        },
        "id": "o1xSvkq67vc4"
      }
    },
    {
      "cell_type": "markdown",
      "source": [
        "<img src = \"https://s3-api.us-geo.objectstorage.softlayer.net/cf-courses-data/CognitiveClass/PY0101EN/Chapter%202/Images/SetsUnion.png\" width=\"650\" />"
      ],
      "metadata": {
        "application/vnd.databricks.v1+cell": {
          "title": "",
          "showTitle": false,
          "inputWidgets": {},
          "nuid": "ad0f7913-f45c-4a59-81de-56f8d45400f5"
        },
        "id": "p2xyw9Zj7vc4"
      }
    },
    {
      "cell_type": "markdown",
      "source": [
        "La unión esta dada por:"
      ],
      "metadata": {
        "application/vnd.databricks.v1+cell": {
          "title": "",
          "showTitle": false,
          "inputWidgets": {},
          "nuid": "596a03f6-3266-4333-ba55-51b880ce0065"
        },
        "id": "ZG30JzyK7vc4"
      }
    },
    {
      "cell_type": "code",
      "source": [
        "# Encontrar la unión de los dos conjuntos\n",
        "\n",
        "album_set1.union(album_set2)"
      ],
      "metadata": {
        "collapsed": true,
        "application/vnd.databricks.v1+cell": {
          "title": "",
          "showTitle": false,
          "inputWidgets": {},
          "nuid": "0b860472-26e1-4fba-bd5a-67a0c670e696"
        },
        "colab": {
          "base_uri": "https://localhost:8080/"
        },
        "id": "1YgQhfqH7vc4",
        "outputId": "58378143-e1f0-44d6-a130-2e440b34a0a1"
      },
      "outputs": [
        {
          "output_type": "execute_result",
          "data": {
            "text/plain": [
              "{'AC/DC', 'Back in Black', 'The Dark Side of the Moon', 'Thriller'}"
            ]
          },
          "metadata": {},
          "execution_count": 15
        }
      ],
      "execution_count": 15
    },
    {
      "cell_type": "markdown",
      "source": [
        "Se puede averiguar si un conjunto es un súper conjunto o un sub conjunto de otro, respectivamente, de la siguiente forma:"
      ],
      "metadata": {
        "application/vnd.databricks.v1+cell": {
          "title": "",
          "showTitle": false,
          "inputWidgets": {},
          "nuid": "3bc71d69-d1a3-4e8a-87fc-583f5ddc5b86"
        },
        "id": "VIsCgN5s7vc4"
      }
    },
    {
      "cell_type": "code",
      "source": [
        "# Revisar si es un super conjunto\n",
        "\n",
        "set(album_set1).issuperset(album_set2)"
      ],
      "metadata": {
        "application/vnd.databricks.v1+cell": {
          "title": "",
          "showTitle": false,
          "inputWidgets": {},
          "nuid": "2f767858-8a57-4311-88c2-c433183fb30f"
        },
        "colab": {
          "base_uri": "https://localhost:8080/"
        },
        "id": "CNkWqfnq7vc4",
        "outputId": "cb50661e-0652-4279-c9d8-051db4bcc838"
      },
      "outputs": [
        {
          "output_type": "execute_result",
          "data": {
            "text/plain": [
              "False"
            ]
          },
          "metadata": {},
          "execution_count": 16
        }
      ],
      "execution_count": 16
    },
    {
      "cell_type": "code",
      "source": [
        "# Revisar si es un sub conjunto\n",
        "\n",
        "set(album_set2).issubset(album_set1)"
      ],
      "metadata": {
        "application/vnd.databricks.v1+cell": {
          "title": "",
          "showTitle": false,
          "inputWidgets": {},
          "nuid": "578fce3e-32d4-4e3f-be19-662eacab6ec8"
        },
        "colab": {
          "base_uri": "https://localhost:8080/"
        },
        "id": "yzyQPdTr7vc4",
        "outputId": "a02589d7-bad4-4cc7-94fb-39d8e1e7dc15"
      },
      "outputs": [
        {
          "output_type": "execute_result",
          "data": {
            "text/plain": [
              "False"
            ]
          },
          "metadata": {},
          "execution_count": 17
        }
      ],
      "execution_count": 17
    },
    {
      "cell_type": "markdown",
      "source": [
        "Este es un ejemplo donde <code>issubset()</code> y <code>issuperset()</code> regresan un valor verdadero:"
      ],
      "metadata": {
        "application/vnd.databricks.v1+cell": {
          "title": "",
          "showTitle": false,
          "inputWidgets": {},
          "nuid": "6766f345-49db-4c1f-873f-b2c67a68c33a"
        },
        "id": "qBuqXe8K7vc4"
      }
    },
    {
      "cell_type": "code",
      "source": [
        "# Revisar si es un sub conjunto\n",
        "\n",
        "set({\"Back in Black\", \"AC/DC\"}).issubset(album_set1)"
      ],
      "metadata": {
        "application/vnd.databricks.v1+cell": {
          "title": "",
          "showTitle": false,
          "inputWidgets": {},
          "nuid": "09af87fc-b662-4a26-94ac-df3395968a41"
        },
        "colab": {
          "base_uri": "https://localhost:8080/"
        },
        "id": "vXBHOKdg7vc4",
        "outputId": "92afd569-7be0-48aa-c18c-5c4f0adc71f6"
      },
      "outputs": [
        {
          "output_type": "execute_result",
          "data": {
            "text/plain": [
              "True"
            ]
          },
          "metadata": {},
          "execution_count": 18
        }
      ],
      "execution_count": 18
    },
    {
      "cell_type": "code",
      "source": [
        "# Revisar si es un super conjunto\n",
        "\n",
        "album_set1.issuperset({\"Back in Black\", \"AC/DC\"})"
      ],
      "metadata": {
        "application/vnd.databricks.v1+cell": {
          "title": "",
          "showTitle": false,
          "inputWidgets": {},
          "nuid": "bad299a9-898f-438d-b504-6bb1bd42f2a7"
        },
        "colab": {
          "base_uri": "https://localhost:8080/"
        },
        "id": "TjrRhm4y7vc4",
        "outputId": "ac00b520-0c28-4376-a28b-3fac0a4a0336"
      },
      "outputs": [
        {
          "output_type": "execute_result",
          "data": {
            "text/plain": [
              "True"
            ]
          },
          "metadata": {},
          "execution_count": 19
        }
      ],
      "execution_count": 19
    },
    {
      "cell_type": "markdown",
      "source": [
        "<h2 id=\"quiz\">Cuestionario sobre conjuntos</h2>"
      ],
      "metadata": {
        "application/vnd.databricks.v1+cell": {
          "title": "",
          "showTitle": false,
          "inputWidgets": {},
          "nuid": "26d53c16-c01f-4835-a6e8-ee2ad7ef05bd"
        },
        "id": "AOQY2KQb7vc4"
      }
    },
    {
      "cell_type": "markdown",
      "source": [
        "Transformar la lista <code>['rap','house','electronic music', 'rap']</code> en un conjunto:"
      ],
      "metadata": {
        "application/vnd.databricks.v1+cell": {
          "title": "",
          "showTitle": false,
          "inputWidgets": {},
          "nuid": "74126b07-e95d-4dc7-956f-2b09e24be04b"
        },
        "id": "0r6CKurS7vc4"
      }
    },
    {
      "cell_type": "code",
      "source": [
        "# Escribe abajo tu código y presiona Shift+Enter para ejecutarlo\n",
        "\n",
        "# Se crea un conjunto con la lista mediante la función \"set\"\n",
        "\n",
        "TransformedList=set(['rap','house','electronic music', 'rap'])"
      ],
      "metadata": {
        "application/vnd.databricks.v1+cell": {
          "title": "",
          "showTitle": false,
          "inputWidgets": {},
          "nuid": "9423486d-6f4e-4bb5-aeb3-83de0c85361b"
        },
        "id": "HOziyg9o7vc4"
      },
      "outputs": [],
      "execution_count": 20
    },
    {
      "cell_type": "markdown",
      "source": [
        "Haz doble click <b>aquí</b> para ver la solución.\n",
        "<!-- Your answer is below:\n",
        "set(['rap','house','electronic music','rap'])\n",
        "-->"
      ],
      "metadata": {
        "application/vnd.databricks.v1+cell": {
          "title": "",
          "showTitle": false,
          "inputWidgets": {},
          "nuid": "4f780d1d-cd1e-481f-85af-081ac06129e0"
        },
        "id": "qbOlQfB17vc4"
      }
    },
    {
      "cell_type": "markdown",
      "source": [
        "Considera que la lista <code>A = [1, 2, 2, 1]</code> y el conjunto <code>B = set([1, 2, 2, 1])</code> suman <code>sum(A) = sum(B)</code>"
      ],
      "metadata": {
        "application/vnd.databricks.v1+cell": {
          "title": "",
          "showTitle": false,
          "inputWidgets": {},
          "nuid": "ad6e9914-2fda-429f-b732-5490e9490b9a"
        },
        "id": "gGG6zarH7vc5"
      }
    },
    {
      "cell_type": "code",
      "source": [
        "# Escribe abajo tu código y presiona Shift+Enter para ejecutarlo\n",
        "# Se inicializa la lista y conjunto\n",
        "A = [1,2,2,1]\n",
        "\n",
        "B = set([1,2,2,1])\n",
        "# Se imprimen las sumas\n",
        "print(\"Suma de A = \", sum(A))\n",
        "\n",
        "print(\"Suma de B = \", sum(B)) # La suma no es igual pues el conjunto elimina repetidos"
      ],
      "metadata": {
        "application/vnd.databricks.v1+cell": {
          "title": "",
          "showTitle": false,
          "inputWidgets": {},
          "nuid": "697fa6ef-f466-4236-9fc6-d423a473c370"
        },
        "colab": {
          "base_uri": "https://localhost:8080/"
        },
        "id": "kuhJ7mrF7vc5",
        "outputId": "a2c7f4dc-7d65-4f27-dd6e-c19552a333b8"
      },
      "outputs": [
        {
          "output_type": "stream",
          "name": "stdout",
          "text": [
            "Suma de A =  6\n",
            "Suma de B =  3\n"
          ]
        }
      ],
      "execution_count": 21
    },
    {
      "cell_type": "markdown",
      "source": [
        "Haz doble click <b>aquí</b> para ver la solución.\n",
        "\n",
        "<!-- Your answer is below:\n",
        "A = [1, 2, 2, 1]  \n",
        "B = set([1, 2, 2, 1])\n",
        "print(\"the sum of A is:\", sum(A))\n",
        "print(\"the sum of B is:\", sum(B))\n",
        "-->"
      ],
      "metadata": {
        "application/vnd.databricks.v1+cell": {
          "title": "",
          "showTitle": false,
          "inputWidgets": {},
          "nuid": "d58337bb-3a3c-41f0-9a6c-41921cca17c8"
        },
        "id": "zqGCRPS37vc5"
      }
    },
    {
      "cell_type": "markdown",
      "source": [
        "Crea un nuevo conjunto <code>album_set3</code> que sea la unión de <code>album_set1</code> y <code>album_set2</code>:"
      ],
      "metadata": {
        "application/vnd.databricks.v1+cell": {
          "title": "",
          "showTitle": false,
          "inputWidgets": {},
          "nuid": "b83ef1ae-b339-4d9c-ae67-1e13d8da9a61"
        },
        "id": "-aSBHU8d7vc5"
      }
    },
    {
      "cell_type": "code",
      "source": [
        "# Escribe abajo tu código y presiona Shift+Enter para ejecutarlo\n",
        "\n",
        "album_set1 = set([\"Thriller\", 'AC/DC', 'Back in Black'])\n",
        "album_set2 = set([ \"AC/DC\", \"Back in Black\", \"The Dark Side of the Moon\"])\n",
        "\n",
        "# Se crea album_set3 como unión\n",
        "\n",
        "album_set3 = album_set1.union(album_set2)\n",
        "\n",
        "# Se imprime el set 3\n",
        "\n",
        "album_set3"
      ],
      "metadata": {
        "application/vnd.databricks.v1+cell": {
          "title": "",
          "showTitle": false,
          "inputWidgets": {},
          "nuid": "f3d7d74d-a639-41f9-9d70-4e7278f24f39"
        },
        "colab": {
          "base_uri": "https://localhost:8080/"
        },
        "id": "rCDdFAZb7vc5",
        "outputId": "1d189127-80bd-4aa4-d36b-03065ad1b0c2"
      },
      "outputs": [
        {
          "output_type": "execute_result",
          "data": {
            "text/plain": [
              "{'AC/DC', 'Back in Black', 'The Dark Side of the Moon', 'Thriller'}"
            ]
          },
          "metadata": {},
          "execution_count": 22
        }
      ],
      "execution_count": 22
    },
    {
      "cell_type": "markdown",
      "source": [
        "Haz doble click <b>aquí</b> para ver la solución.\n",
        "\n",
        "<!-- Your answer is below:\n",
        "album_set3 = album_set1.union(album_set2)\n",
        "album_set3\n",
        "-->"
      ],
      "metadata": {
        "application/vnd.databricks.v1+cell": {
          "title": "",
          "showTitle": false,
          "inputWidgets": {},
          "nuid": "20abc767-a503-4f29-90a2-0c7e1d65b3f9"
        },
        "id": "ueAj5a6H7vc5"
      }
    },
    {
      "cell_type": "markdown",
      "source": [
        "Averigua si <code>album_set1</code> es un subconjunto de <code>album_set3</code>:"
      ],
      "metadata": {
        "application/vnd.databricks.v1+cell": {
          "title": "",
          "showTitle": false,
          "inputWidgets": {},
          "nuid": "86d9065c-fc26-4b5a-9deb-e7c517c4ac46"
        },
        "id": "mZgfJyfM7vc5"
      }
    },
    {
      "cell_type": "code",
      "source": [
        "# Escribe abajo tu código y presiona Shift+Enter para ejecutarlo\n",
        "# Se usa la función \"issubset\" para averiguar si el set 1 es subconjunto del set 3\n",
        "album_set3.issubset(album_set1)"
      ],
      "metadata": {
        "application/vnd.databricks.v1+cell": {
          "title": "",
          "showTitle": false,
          "inputWidgets": {},
          "nuid": "c39979b3-b173-46a3-92a4-4610fbeeed79"
        },
        "colab": {
          "base_uri": "https://localhost:8080/"
        },
        "id": "KnerV2L-7vc5",
        "outputId": "7e43f4ba-3c87-4980-8fcd-124a207ce3a5"
      },
      "outputs": [
        {
          "output_type": "execute_result",
          "data": {
            "text/plain": [
              "False"
            ]
          },
          "metadata": {},
          "execution_count": 23
        }
      ],
      "execution_count": 23
    },
    {
      "cell_type": "markdown",
      "source": [
        "Haz doble click <b>aquí</b> para ver la solución.\n",
        "\n",
        "<!-- Your answer is below:\n",
        "album_set1.issubset(album_set3)\n",
        "-->"
      ],
      "metadata": {
        "application/vnd.databricks.v1+cell": {
          "title": "",
          "showTitle": false,
          "inputWidgets": {},
          "nuid": "152603f1-f354-40d1-a532-ce58f119f576"
        },
        "id": "62PPocF97vc5"
      }
    }
  ],
  "metadata": {
    "kernelspec": {
      "display_name": "Python 3",
      "language": "python",
      "name": "python3"
    },
    "language_info": {
      "mimetype": "text/x-python",
      "name": "python",
      "pygments_lexer": "ipython3",
      "codemirror_mode": {
        "name": "ipython",
        "version": 3
      },
      "version": "3.7.7",
      "nbconvert_exporter": "python",
      "file_extension": ".py"
    },
    "application/vnd.databricks.v1+notebook": {
      "notebookName": "04-Python-Conjuntos",
      "dashboards": [],
      "notebookMetadata": {
        "pythonIndentUnit": 2
      },
      "language": "python",
      "widgets": {},
      "notebookOrigID": 3296315911137944
    },
    "colab": {
      "provenance": []
    }
  },
  "nbformat": 4,
  "nbformat_minor": 0
}