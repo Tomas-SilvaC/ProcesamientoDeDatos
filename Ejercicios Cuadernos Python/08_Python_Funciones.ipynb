{
  "cells": [
    {
      "cell_type": "markdown",
      "source": [
        "<h1>Procesamiento de Datos a Gran Escala</h1>"
      ],
      "metadata": {
        "application/vnd.databricks.v1+cell": {
          "title": "",
          "showTitle": false,
          "inputWidgets": {},
          "nuid": "c5904a78-050c-49d5-9c42-b2556a65e0bc"
        },
        "id": "Zb38zYwCwhaN"
      }
    },
    {
      "cell_type": "markdown",
      "source": [
        "<h2>Funciones en Python</h2>"
      ],
      "metadata": {
        "application/vnd.databricks.v1+cell": {
          "title": "",
          "showTitle": false,
          "inputWidgets": {},
          "nuid": "020bd525-d2c0-4ef8-b192-d7052caacf30"
        },
        "id": "-vlnIxHrwhaO"
      }
    },
    {
      "cell_type": "markdown",
      "source": [
        "# **Pontificia Universidad Javeriana**\n",
        "##**Tomas Alejandro Silva Correal**\n",
        "\n",
        "**10 de Agosto de 2025**\n",
        "\n",
        "**Cuadernos Ejercicios de Python Procesamiento de Datos 2530**"
      ],
      "metadata": {
        "id": "sDXq13xXwnqI"
      }
    },
    {
      "cell_type": "markdown",
      "source": [
        "**Descripción:**\n",
        "\n",
        "\n",
        "Este taller trabaja los fundamentos de funciones en python. Al final de este cuaderno se encuentran ejercicios resueltos de dichos fundamentos y operaciones.\n",
        "\n",
        "</div>\n",
        "\n",
        "<hr>"
      ],
      "metadata": {
        "application/vnd.databricks.v1+cell": {
          "title": "",
          "showTitle": false,
          "inputWidgets": {},
          "nuid": "c63fae49-72ff-4843-b874-a4874ae159dc"
        },
        "id": "KGCr6LrSwhaP"
      }
    },
    {
      "cell_type": "markdown",
      "source": [
        "<h2>Tabla de contenidos</h2>\n",
        "<div class=\"alert alert-block alert-info\" style=\"margin-top: 20px\">\n",
        "    <ul>\n",
        "        <li>\n",
        "            <a href=\"#func\">Funciones</a>\n",
        "            <ul>\n",
        "                <li><a href=\"content\">¿Qué es una función?</a></li>\n",
        "                <li><a href=\"var\">Variables</a></li>\n",
        "                <li><a href=\"simple\">Las funciones hacen las cosas más fáciles</a></li>\n",
        "            </ul>\n",
        "        </li>\n",
        "        <li><a href=\"pre\">Funciones predefinidas</a></li>\n",
        "        <li><a href=\"if\">Utilizando <code>if</code>/<code>else</code> y ciclos en Funciones</a></li>\n",
        "        <li><a href=\"default\">Establecer valores de argumento predeterminados en sus funciones personalizadas</a></li>\n",
        "        <li><a href=\"global\">Variables globales</a></li>\n",
        "        <li><a href=\"scope\">Ámbito de una variable</a></li>\n",
        "        <li>\n",
        "            <a href=\"#quiz\">Cuestionario sobre funciones</a>\n",
        "        </li>\n",
        "    </ul>\n",
        "    <p>\n",
        "        Tiempo estimado: <strong>40 min</strong>\n",
        "    </p>\n",
        "</div>\n",
        "\n",
        "<hr>"
      ],
      "metadata": {
        "application/vnd.databricks.v1+cell": {
          "title": "",
          "showTitle": false,
          "inputWidgets": {},
          "nuid": "39bbccf2-e801-47f2-96f3-d52b33a8860d"
        },
        "id": "XFhxgdbwwhaP"
      }
    },
    {
      "cell_type": "markdown",
      "source": [
        "<h2 id=\"func\">Funciones</h2>"
      ],
      "metadata": {
        "application/vnd.databricks.v1+cell": {
          "title": "",
          "showTitle": false,
          "inputWidgets": {},
          "nuid": "13571639-e6d4-4602-844e-4aa79218fa74"
        },
        "id": "i7nH4pzlwhaQ"
      }
    },
    {
      "cell_type": "markdown",
      "source": [
        "Una función es un bloque de código reutilizable que realiza las operaciones especificadas en la función. Le permiten dividir las tareas y reutilizar su código en diferentes programas.\n",
        "\n",
        "Hay dos tipos de funciones:\n",
        "\n",
        "- <b>Funciones predefinidas</b>\n",
        "- <b>Funciones definidas por el usuario</b>"
      ],
      "metadata": {
        "application/vnd.databricks.v1+cell": {
          "title": "",
          "showTitle": false,
          "inputWidgets": {},
          "nuid": "96dab811-6c89-442c-b65d-defb9dd87811"
        },
        "id": "L07RyvdUwhaQ"
      }
    },
    {
      "cell_type": "markdown",
      "source": [
        "<h3 id=\"content\">¿Qué es una función?</h3>"
      ],
      "metadata": {
        "application/vnd.databricks.v1+cell": {
          "title": "",
          "showTitle": false,
          "inputWidgets": {},
          "nuid": "afaded6e-161a-4261-ab35-34643ed4f714"
        },
        "id": "GxjCLJgfwhaQ"
      }
    },
    {
      "cell_type": "markdown",
      "source": [
        "Puede definir funciones para proporcionar la funcionalidad requerida. Aquí hay reglas simples para definir una función en Python:\n",
        "- Los bloques de funciones comienzan <code> def </code> seguidos por la función <code> name </code> y entre paréntesis <code> () </code>.\n",
        "- Hay parámetros de entrada o argumentos que deben colocarse entre estos paréntesis.\n",
        "- También puede definir parámetros dentro de estos paréntesis.\n",
        "- Hay un cuerpo dentro de cada función que comienza con dos puntos (<code>: </code>) y tiene sangría.\n",
        "- También puede colocar la documentación antes del cuerpo.\n",
        "- La instrucción <code> return </code> sale de una función y, opcionalmente, devuelve un valor.\n",
        "\n",
        "Un ejemplo de una función que se agrega al parámetro <code> a </code> imprime y devuelve la salida como <code> b </code>:"
      ],
      "metadata": {
        "application/vnd.databricks.v1+cell": {
          "title": "",
          "showTitle": false,
          "inputWidgets": {},
          "nuid": "4b0e9080-64a8-4bb5-a83d-f27a0d47403c"
        },
        "id": "RoIn1BD2whaQ"
      }
    },
    {
      "cell_type": "code",
      "source": [
        "# Primer ejemplo de funcion:  Suma 1 en a y almacena en b\n",
        "\n",
        "def add(a):\n",
        "    b = a + 1\n",
        "    print(a, \"si sumas 1\", b)\n",
        "    return(b)"
      ],
      "metadata": {
        "collapsed": true,
        "application/vnd.databricks.v1+cell": {
          "title": "",
          "showTitle": false,
          "inputWidgets": {},
          "nuid": "23ae1237-2271-44e1-b667-b04f4c24cfce"
        },
        "id": "GtpruNFTwhaR"
      },
      "outputs": [],
      "execution_count": null
    },
    {
      "cell_type": "markdown",
      "source": [
        "La siguiente figura ilustra la terminología:"
      ],
      "metadata": {
        "application/vnd.databricks.v1+cell": {
          "title": "",
          "showTitle": false,
          "inputWidgets": {},
          "nuid": "a15ac0e8-e1bc-477a-a490-1b3babeb6d94"
        },
        "id": "hH53zxtywhaS"
      }
    },
    {
      "cell_type": "markdown",
      "source": [
        "<img src=\"https://s3-api.us-geo.objectstorage.softlayer.net/cf-courses-data/CognitiveClass/PY0101EN/Chapter%203/Images/FuncsDefinition.png\" width=\"500\" />"
      ],
      "metadata": {
        "application/vnd.databricks.v1+cell": {
          "title": "",
          "showTitle": false,
          "inputWidgets": {},
          "nuid": "954fa6f5-17d5-4ae8-ba37-db8126cff268"
        },
        "id": "d-qaCy_mwhaS"
      }
    },
    {
      "cell_type": "markdown",
      "source": [
        "Podemos obtener ayuda sobre una función:"
      ],
      "metadata": {
        "application/vnd.databricks.v1+cell": {
          "title": "",
          "showTitle": false,
          "inputWidgets": {},
          "nuid": "25a5f9bd-4b91-47a4-bef2-ca94ab4556dd"
        },
        "id": "_bmDTEx4whaS"
      }
    },
    {
      "cell_type": "code",
      "source": [
        "# Get a help on add function\n",
        "\n",
        "help(add)"
      ],
      "metadata": {
        "application/vnd.databricks.v1+cell": {
          "title": "",
          "showTitle": false,
          "inputWidgets": {},
          "nuid": "55abf0db-a976-4472-bc13-9a16112a6859"
        },
        "colab": {
          "base_uri": "https://localhost:8080/"
        },
        "id": "YohpE2z7whaS",
        "outputId": "adbcbbed-8b0e-41b2-e75f-c7cd424b1bea"
      },
      "outputs": [
        {
          "output_type": "stream",
          "name": "stdout",
          "text": [
            "Help on function add in module __main__:\n",
            "\n",
            "add(a)\n",
            "\n"
          ]
        }
      ],
      "execution_count": null
    },
    {
      "cell_type": "markdown",
      "source": [
        "Podemos llamar a la función:"
      ],
      "metadata": {
        "application/vnd.databricks.v1+cell": {
          "title": "",
          "showTitle": false,
          "inputWidgets": {},
          "nuid": "f7928b5a-1b63-4407-b706-edcf9e96ac7f"
        },
        "id": "kDruzVx_whaS"
      }
    },
    {
      "cell_type": "code",
      "source": [
        "# Call the function add()\n",
        "\n",
        "add(1)"
      ],
      "metadata": {
        "application/vnd.databricks.v1+cell": {
          "title": "",
          "showTitle": false,
          "inputWidgets": {},
          "nuid": "33dc2565-7a62-44dd-878a-05a15cbaf533"
        },
        "colab": {
          "base_uri": "https://localhost:8080/"
        },
        "id": "VkTPvxNiwhaS",
        "outputId": "a0bddddb-a36c-410c-a619-28d778c6a0ab"
      },
      "outputs": [
        {
          "output_type": "stream",
          "name": "stdout",
          "text": [
            "1 si sumas 1 2\n"
          ]
        },
        {
          "output_type": "execute_result",
          "data": {
            "text/plain": [
              "2"
            ]
          },
          "metadata": {},
          "execution_count": 3
        }
      ],
      "execution_count": null
    },
    {
      "cell_type": "markdown",
      "source": [
        "Si llamamos a la función con una nueva entrada obtenemos un nuevo resultado:"
      ],
      "metadata": {
        "application/vnd.databricks.v1+cell": {
          "title": "",
          "showTitle": false,
          "inputWidgets": {},
          "nuid": "ad744100-210c-420f-8eb2-82fe64268134"
        },
        "id": "mMZv-_g8whaT"
      }
    },
    {
      "cell_type": "code",
      "source": [
        "# Call the function add()\n",
        "\n",
        "add(2)"
      ],
      "metadata": {
        "application/vnd.databricks.v1+cell": {
          "title": "",
          "showTitle": false,
          "inputWidgets": {},
          "nuid": "b22d1933-c3ae-4a8e-84d7-929d526df799"
        },
        "colab": {
          "base_uri": "https://localhost:8080/"
        },
        "id": "tIlp8nu5whaT",
        "outputId": "113e78d7-00ca-4389-8643-9c044862a488"
      },
      "outputs": [
        {
          "output_type": "stream",
          "name": "stdout",
          "text": [
            "2 si sumas 1 3\n"
          ]
        },
        {
          "output_type": "execute_result",
          "data": {
            "text/plain": [
              "3"
            ]
          },
          "metadata": {},
          "execution_count": 4
        }
      ],
      "execution_count": null
    },
    {
      "cell_type": "markdown",
      "source": [
        "Podemos crear diferentes funciones. Por ejemplo, podemos crear una función que multiplique dos números. Los números estarán representados por las variables <code> a </code> y <code> b </code>:"
      ],
      "metadata": {
        "application/vnd.databricks.v1+cell": {
          "title": "",
          "showTitle": false,
          "inputWidgets": {},
          "nuid": "ff1f8f6b-24ac-4e86-b1ae-4b1fe26fd832"
        },
        "id": "LKCA-BkIwhaT"
      }
    },
    {
      "cell_type": "code",
      "source": [
        "# Define a function for multiple two numbers\n",
        "\n",
        "def Mult(a, b):\n",
        "    c = a * b\n",
        "    return(c)"
      ],
      "metadata": {
        "collapsed": true,
        "application/vnd.databricks.v1+cell": {
          "title": "",
          "showTitle": false,
          "inputWidgets": {},
          "nuid": "c46c7a58-8022-4231-b4f9-7a592d384020"
        },
        "id": "6Mwbp7NvwhaT"
      },
      "outputs": [],
      "execution_count": null
    },
    {
      "cell_type": "markdown",
      "source": [
        "La misma función se puede utilizar para diferentes tipos de datos. Por ejemplo, podemos multiplicar dos números enteros:"
      ],
      "metadata": {
        "application/vnd.databricks.v1+cell": {
          "title": "",
          "showTitle": false,
          "inputWidgets": {},
          "nuid": "da5b7a12-450d-4a8d-91be-ab4634692504"
        },
        "id": "kkF0I2k7whaT"
      }
    },
    {
      "cell_type": "code",
      "source": [
        "# Use mult() multiply two integers\n",
        "\n",
        "Mult(2, 3)"
      ],
      "metadata": {
        "application/vnd.databricks.v1+cell": {
          "title": "",
          "showTitle": false,
          "inputWidgets": {},
          "nuid": "843c5881-0e7f-44eb-80f2-a8ed0b484a16"
        },
        "colab": {
          "base_uri": "https://localhost:8080/"
        },
        "id": "ms6ywwjxwhaT",
        "outputId": "937e4daa-d6cb-4539-b81f-d03325830be2"
      },
      "outputs": [
        {
          "output_type": "execute_result",
          "data": {
            "text/plain": [
              "6"
            ]
          },
          "metadata": {},
          "execution_count": 6
        }
      ],
      "execution_count": null
    },
    {
      "cell_type": "markdown",
      "source": [
        "Dos Floats:"
      ],
      "metadata": {
        "application/vnd.databricks.v1+cell": {
          "title": "",
          "showTitle": false,
          "inputWidgets": {},
          "nuid": "ad049183-4847-4581-8979-0c4684d4b61c"
        },
        "id": "FRLpeOy0whaU"
      }
    },
    {
      "cell_type": "code",
      "source": [
        "# Use mult() multiply two floats\n",
        "\n",
        "Mult(10.0, 3.14)"
      ],
      "metadata": {
        "application/vnd.databricks.v1+cell": {
          "title": "",
          "showTitle": false,
          "inputWidgets": {},
          "nuid": "b1a10eb6-7811-4cdc-b8a5-9145f50836dc"
        },
        "colab": {
          "base_uri": "https://localhost:8080/"
        },
        "id": "m7Upav_1whaU",
        "outputId": "5d2a3858-783a-4195-9125-3ff47aec0556"
      },
      "outputs": [
        {
          "output_type": "execute_result",
          "data": {
            "text/plain": [
              "31.400000000000002"
            ]
          },
          "metadata": {},
          "execution_count": 7
        }
      ],
      "execution_count": null
    },
    {
      "cell_type": "markdown",
      "source": [
        "Incluso podemos replicar una cadena multiplicándola por un número entero:"
      ],
      "metadata": {
        "application/vnd.databricks.v1+cell": {
          "title": "",
          "showTitle": false,
          "inputWidgets": {},
          "nuid": "c22d8918-8502-42c6-83f9-183cbab895c7"
        },
        "id": "ZfJK1ps9whaU"
      }
    },
    {
      "cell_type": "code",
      "source": [
        "# Use mult() multiply two different type values together\n",
        "\n",
        "Mult(2, \"Michael Jackson \")"
      ],
      "metadata": {
        "application/vnd.databricks.v1+cell": {
          "title": "",
          "showTitle": false,
          "inputWidgets": {},
          "nuid": "581d3dbd-08a4-4276-a676-a596a4ac9deb"
        },
        "colab": {
          "base_uri": "https://localhost:8080/",
          "height": 35
        },
        "id": "OguR2wfgwhaU",
        "outputId": "66eb83bd-b364-462b-920c-bdee828d43f1"
      },
      "outputs": [
        {
          "output_type": "execute_result",
          "data": {
            "text/plain": [
              "'Michael Jackson Michael Jackson '"
            ],
            "application/vnd.google.colaboratory.intrinsic+json": {
              "type": "string"
            }
          },
          "metadata": {},
          "execution_count": 8
        }
      ],
      "execution_count": null
    },
    {
      "cell_type": "markdown",
      "source": [
        "<h3 id=\"var\">Variables</h3>"
      ],
      "metadata": {
        "application/vnd.databricks.v1+cell": {
          "title": "",
          "showTitle": false,
          "inputWidgets": {},
          "nuid": "99635cf1-9fb4-4af4-b4b5-f118444e3123"
        },
        "id": "rAw6x-LDwhaU"
      }
    },
    {
      "cell_type": "markdown",
      "source": [
        "La entrada a una función se llama parámetro formal.\n",
        "\n",
        "Una variable que se declara dentro de una función se llama variable local. El parámetro solo existe dentro de la función (es decir, el punto donde la función comienza y se detiene).\n",
        "\n",
        "Una variable que se declara fuera de la definición de una función es una variable global, y su valor es accesible y modificable en todo el programa. Discutiremos más sobre las variables globales al final de la práctica de laboratorio."
      ],
      "metadata": {
        "application/vnd.databricks.v1+cell": {
          "title": "",
          "showTitle": false,
          "inputWidgets": {},
          "nuid": "ee3cad54-592e-41c9-9e03-7c565b157cd9"
        },
        "id": "laNQV774whaU"
      }
    },
    {
      "cell_type": "code",
      "source": [
        "# Function Definition\n",
        "\n",
        "def square(a):\n",
        "\n",
        "    # Local variable b\n",
        "    b = 1\n",
        "    c = a * a + b\n",
        "    print(a, \"if you square + 1\", c)\n",
        "    return(c)"
      ],
      "metadata": {
        "application/vnd.databricks.v1+cell": {
          "title": "",
          "showTitle": false,
          "inputWidgets": {},
          "nuid": "3b2c0a6c-959d-4a02-a41e-7264f4bee4aa"
        },
        "id": "ovZD_bjYwhaV"
      },
      "outputs": [],
      "execution_count": null
    },
    {
      "cell_type": "markdown",
      "source": [
        "Las etiquetas se muestran en la figura:"
      ],
      "metadata": {
        "application/vnd.databricks.v1+cell": {
          "title": "",
          "showTitle": false,
          "inputWidgets": {},
          "nuid": "96ca4ced-479d-445c-84f2-0370b10c8c78"
        },
        "id": "MsQKSbXZwhaV"
      }
    },
    {
      "cell_type": "markdown",
      "source": [
        "<img src=\"https://s3-api.us-geo.objectstorage.softlayer.net/cf-courses-data/CognitiveClass/PY0101EN/Chapter%203/Images/FuncsVar.png\" width=\"500\" />"
      ],
      "metadata": {
        "application/vnd.databricks.v1+cell": {
          "title": "",
          "showTitle": false,
          "inputWidgets": {},
          "nuid": "92c70547-f96e-4c96-b251-c7dc2857ab8c"
        },
        "id": "wNj81kqlwhaV"
      }
    },
    {
      "cell_type": "markdown",
      "source": [
        "Podemos llamar a la función con una entrada de <b> 3 </b>:"
      ],
      "metadata": {
        "application/vnd.databricks.v1+cell": {
          "title": "",
          "showTitle": false,
          "inputWidgets": {},
          "nuid": "2f61bdbd-072b-4b23-930d-9f93897c3c1a"
        },
        "id": "Hw9rZivlwhaV"
      }
    },
    {
      "cell_type": "code",
      "source": [
        "# Initializes Global variable\n",
        "\n",
        "x = 3\n",
        "# Makes function call and return function a y\n",
        "y = square(x)\n",
        "y"
      ],
      "metadata": {
        "application/vnd.databricks.v1+cell": {
          "title": "",
          "showTitle": false,
          "inputWidgets": {},
          "nuid": "8c8a35b7-12bb-47bc-8d3f-8d36d132035c"
        },
        "colab": {
          "base_uri": "https://localhost:8080/"
        },
        "id": "SYfeQuVuwhaV",
        "outputId": "55f06e64-e896-4e61-f1c0-b2ed2716c278"
      },
      "outputs": [
        {
          "output_type": "stream",
          "name": "stdout",
          "text": [
            "3 if you square + 1 10\n"
          ]
        },
        {
          "output_type": "execute_result",
          "data": {
            "text/plain": [
              "10"
            ]
          },
          "metadata": {},
          "execution_count": 10
        }
      ],
      "execution_count": null
    },
    {
      "cell_type": "markdown",
      "source": [
        "Podemos llamar a la función con una entrada de <b> 2 </b> de una manera diferente:"
      ],
      "metadata": {
        "application/vnd.databricks.v1+cell": {
          "title": "",
          "showTitle": false,
          "inputWidgets": {},
          "nuid": "22f6b5d8-8163-4357-8783-14265eb4dedc"
        },
        "id": "TnqdPlkIwhaV"
      }
    },
    {
      "cell_type": "code",
      "source": [
        "# Directly enter a number as parameter\n",
        "\n",
        "square(2)"
      ],
      "metadata": {
        "application/vnd.databricks.v1+cell": {
          "title": "",
          "showTitle": false,
          "inputWidgets": {},
          "nuid": "ad253329-312f-4480-af9d-05dcde3a3007"
        },
        "colab": {
          "base_uri": "https://localhost:8080/"
        },
        "id": "oStNz22RwhaV",
        "outputId": "b8ddd382-8862-41e9-9006-f434ecac389f"
      },
      "outputs": [
        {
          "output_type": "stream",
          "name": "stdout",
          "text": [
            "2 if you square + 1 5\n"
          ]
        },
        {
          "output_type": "execute_result",
          "data": {
            "text/plain": [
              "5"
            ]
          },
          "metadata": {},
          "execution_count": 11
        }
      ],
      "execution_count": null
    },
    {
      "cell_type": "markdown",
      "source": [
        "Si no hay una instrucción <code> return </code>, la función devuelve <code> None </code>. Las siguientes dos funciones son equivalentes:"
      ],
      "metadata": {
        "application/vnd.databricks.v1+cell": {
          "title": "",
          "showTitle": false,
          "inputWidgets": {},
          "nuid": "92114a8b-b818-4b97-837c-32afae2158ef"
        },
        "id": "NMzhHijswhaV"
      }
    },
    {
      "cell_type": "code",
      "source": [
        "# Define functions, one with return value None and other without return value\n",
        "\n",
        "def MJ():\n",
        "    print('Michael Jackson')\n",
        "\n",
        "def MJ1():\n",
        "    print('Michael Jackson')\n",
        "    return(None)"
      ],
      "metadata": {
        "application/vnd.databricks.v1+cell": {
          "title": "",
          "showTitle": false,
          "inputWidgets": {},
          "nuid": "394a1550-5987-43bd-8aef-8c9fd752347b"
        },
        "id": "lTWCIblFwhaV"
      },
      "outputs": [],
      "execution_count": null
    },
    {
      "cell_type": "code",
      "source": [
        "# See the output\n",
        "\n",
        "MJ()"
      ],
      "metadata": {
        "application/vnd.databricks.v1+cell": {
          "title": "",
          "showTitle": false,
          "inputWidgets": {},
          "nuid": "a95eca71-63c0-43bc-94f4-1c1ef3251e34"
        },
        "colab": {
          "base_uri": "https://localhost:8080/"
        },
        "id": "slYcmCfnwhaV",
        "outputId": "f8de9ee0-ea1e-4a3b-d512-dd894fb05bde"
      },
      "outputs": [
        {
          "output_type": "stream",
          "name": "stdout",
          "text": [
            "Michael Jackson\n"
          ]
        }
      ],
      "execution_count": null
    },
    {
      "cell_type": "code",
      "source": [
        "# See the output\n",
        "\n",
        "MJ1()"
      ],
      "metadata": {
        "application/vnd.databricks.v1+cell": {
          "title": "",
          "showTitle": false,
          "inputWidgets": {},
          "nuid": "4599eec7-2bc3-42ee-96c2-61b4f51c7a50"
        },
        "colab": {
          "base_uri": "https://localhost:8080/"
        },
        "id": "d_1IcfPtwhaV",
        "outputId": "18b096ea-3c84-4799-b132-ba2b7d680796"
      },
      "outputs": [
        {
          "output_type": "stream",
          "name": "stdout",
          "text": [
            "Michael Jackson\n"
          ]
        }
      ],
      "execution_count": null
    },
    {
      "cell_type": "markdown",
      "source": [
        "La impresión de la función después de una llamada revela ** None ** es la declaración de retorno predeterminada:"
      ],
      "metadata": {
        "application/vnd.databricks.v1+cell": {
          "title": "",
          "showTitle": false,
          "inputWidgets": {},
          "nuid": "fab12278-8363-4cbd-8765-8ff3937eba52"
        },
        "id": "KJPARXVFwhaV"
      }
    },
    {
      "cell_type": "code",
      "source": [
        "# See what functions returns are\n",
        "\n",
        "print(MJ())\n",
        "print(MJ1())"
      ],
      "metadata": {
        "application/vnd.databricks.v1+cell": {
          "title": "",
          "showTitle": false,
          "inputWidgets": {},
          "nuid": "ee4f5608-6f6d-46c3-8d0b-2b53d7d757b5"
        },
        "colab": {
          "base_uri": "https://localhost:8080/"
        },
        "id": "nZ-vcZeFwhaW",
        "outputId": "abd29ddc-282d-48ea-89b7-ac1ee5d56fcb"
      },
      "outputs": [
        {
          "output_type": "stream",
          "name": "stdout",
          "text": [
            "Michael Jackson\n",
            "None\n",
            "Michael Jackson\n",
            "None\n"
          ]
        }
      ],
      "execution_count": null
    },
    {
      "cell_type": "markdown",
      "source": [
        "Cree una función <code> con </code> que concatene dos cadenas usando la operación de suma:"
      ],
      "metadata": {
        "application/vnd.databricks.v1+cell": {
          "title": "",
          "showTitle": false,
          "inputWidgets": {},
          "nuid": "0b2c0e5c-fcad-46a4-8d00-57d760c35877"
        },
        "id": "k_3wPluWwhaW"
      }
    },
    {
      "cell_type": "code",
      "source": [
        "# Define the function for combining strings\n",
        "\n",
        "def con(a, b):\n",
        "    return(a + b)"
      ],
      "metadata": {
        "collapsed": true,
        "application/vnd.databricks.v1+cell": {
          "title": "",
          "showTitle": false,
          "inputWidgets": {},
          "nuid": "ddb31c83-d084-4d86-aeaa-7f6f257cfef8"
        },
        "id": "oCn6aec0whaW"
      },
      "outputs": [],
      "execution_count": null
    },
    {
      "cell_type": "code",
      "source": [
        "# Test on the con() function\n",
        "\n",
        "con(\"This \", \"is\")"
      ],
      "metadata": {
        "application/vnd.databricks.v1+cell": {
          "title": "",
          "showTitle": false,
          "inputWidgets": {},
          "nuid": "21c97206-8e72-4f3b-a080-1165069c0e22"
        },
        "colab": {
          "base_uri": "https://localhost:8080/",
          "height": 35
        },
        "id": "FvBQ7B9dwhaW",
        "outputId": "155774b5-be9c-4adf-d0d2-c19b863cd78c"
      },
      "outputs": [
        {
          "output_type": "execute_result",
          "data": {
            "text/plain": [
              "'This is'"
            ],
            "application/vnd.google.colaboratory.intrinsic+json": {
              "type": "string"
            }
          },
          "metadata": {},
          "execution_count": 17
        }
      ],
      "execution_count": null
    },
    {
      "cell_type": "markdown",
      "source": [
        "<h3 id=\"simple\">Las funciones hacen las cosas más fáciles</h3>"
      ],
      "metadata": {
        "application/vnd.databricks.v1+cell": {
          "title": "",
          "showTitle": false,
          "inputWidgets": {},
          "nuid": "cd75ff9e-f20a-4690-b489-20dcb5173208"
        },
        "id": "Nh1QJv9AwhaW"
      }
    },
    {
      "cell_type": "markdown",
      "source": [
        "Considere las dos líneas de código en <b> Block 1 </b> y <b> Block 2 </b>: el procedimiento para cada bloque es idéntico. Lo único que es diferente son los nombres y valores de las variables."
      ],
      "metadata": {
        "application/vnd.databricks.v1+cell": {
          "title": "",
          "showTitle": false,
          "inputWidgets": {},
          "nuid": "8b3d727b-bff9-49e2-9dca-bb0df7ac9fdd"
        },
        "id": "gKrIss0SwhaW"
      }
    },
    {
      "cell_type": "markdown",
      "source": [
        "<h4>Block 1:</h4>"
      ],
      "metadata": {
        "application/vnd.databricks.v1+cell": {
          "title": "",
          "showTitle": false,
          "inputWidgets": {},
          "nuid": "e4be1616-c9f6-41c5-810e-d713e730b952"
        },
        "id": "-IJU8r45whaW"
      }
    },
    {
      "cell_type": "code",
      "source": [
        "# a and b calculation block1\n",
        "\n",
        "a1 = 4\n",
        "b1 = 5\n",
        "c1 = a1 + b1 + 2 * a1 * b1 - 1\n",
        "if(c1 < 0):\n",
        "    c1 = 0\n",
        "else:\n",
        "    c1 = 5\n",
        "c1"
      ],
      "metadata": {
        "application/vnd.databricks.v1+cell": {
          "title": "",
          "showTitle": false,
          "inputWidgets": {},
          "nuid": "a7b41b16-7954-4baa-b0b1-8a7053dd8a0c"
        },
        "colab": {
          "base_uri": "https://localhost:8080/"
        },
        "id": "z7Dzx_SXwhaW",
        "outputId": "a3004a9d-2af1-4aa5-85ea-121240762d6a"
      },
      "outputs": [
        {
          "output_type": "execute_result",
          "data": {
            "text/plain": [
              "5"
            ]
          },
          "metadata": {},
          "execution_count": 18
        }
      ],
      "execution_count": null
    },
    {
      "cell_type": "markdown",
      "source": [
        "<h4>Block 2:</h4>"
      ],
      "metadata": {
        "application/vnd.databricks.v1+cell": {
          "title": "",
          "showTitle": false,
          "inputWidgets": {},
          "nuid": "88ba43cc-ce33-4c85-af81-5cf079df3cbd"
        },
        "id": "3h4FmLt3whaW"
      }
    },
    {
      "cell_type": "code",
      "source": [
        "# a and b calculation block2\n",
        "\n",
        "a2 = 0\n",
        "b2 = 0\n",
        "c2 = a2 + b2 + 2 * a2 * b2 - 1\n",
        "if(c2 < 0):\n",
        "    c2 = 0\n",
        "else:\n",
        "    c2 = 5\n",
        "c2"
      ],
      "metadata": {
        "application/vnd.databricks.v1+cell": {
          "title": "",
          "showTitle": false,
          "inputWidgets": {},
          "nuid": "1ae20e11-58f2-4883-889f-9f1a69633965"
        },
        "colab": {
          "base_uri": "https://localhost:8080/"
        },
        "id": "cjokqKGawhaW",
        "outputId": "e01edb00-5c6a-4ee4-ed55-e58de704b51d"
      },
      "outputs": [
        {
          "output_type": "execute_result",
          "data": {
            "text/plain": [
              "0"
            ]
          },
          "metadata": {},
          "execution_count": 19
        }
      ],
      "execution_count": null
    },
    {
      "cell_type": "markdown",
      "source": [
        "Podemos reemplazar las líneas de código con una función. Una función combina muchas instrucciones en una sola línea de código. Una vez que se define una función, se puede utilizar repetidamente. Puede invocar la misma función muchas veces en su programa. Puede guardar su función y usarla en otro programa o usar la función de otra persona. Las líneas de código en el código <b> Block 1 </b> y el código <b> Block 2 </b> se pueden reemplazar por la siguiente función:"
      ],
      "metadata": {
        "application/vnd.databricks.v1+cell": {
          "title": "",
          "showTitle": false,
          "inputWidgets": {},
          "nuid": "1fdfbbe9-1623-43de-b8b4-6932a862946c"
        },
        "id": "6CDXSZbewhaW"
      }
    },
    {
      "cell_type": "code",
      "source": [
        "# Make a Function for the calculation above\n",
        "\n",
        "def Equation(a,b):\n",
        "    c = a + b + 2 * a * b - 1\n",
        "    if(c < 0):\n",
        "        c = 0\n",
        "    else:\n",
        "        c = 5\n",
        "    return(c)"
      ],
      "metadata": {
        "application/vnd.databricks.v1+cell": {
          "title": "",
          "showTitle": false,
          "inputWidgets": {},
          "nuid": "274ac366-9813-4d38-9f37-67479767b8e1"
        },
        "id": "wgKufJd7whaW"
      },
      "outputs": [],
      "execution_count": null
    },
    {
      "cell_type": "markdown",
      "source": [
        "Esta función toma dos entradas, ayb, luego aplica varias operaciones para devolver c.\n",
        "Simplemente definimos la función, reemplazamos las instrucciones con la función e ingresamos los nuevos valores de <code> a1 </code>, <code> b1 </code> y <code> a2 </code>, <code> b2 </code> como entradas. Todo el proceso se demuestra en la figura:"
      ],
      "metadata": {
        "application/vnd.databricks.v1+cell": {
          "title": "",
          "showTitle": false,
          "inputWidgets": {},
          "nuid": "31c93776-d4be-4e8e-8aba-e3bff77ce9a6"
        },
        "id": "_RwWg6cNwhaW"
      }
    },
    {
      "cell_type": "markdown",
      "source": [
        "<img src=\"https://s3-api.us-geo.objectstorage.softlayer.net/cf-courses-data/CognitiveClass/PY0101EN/Chapter%203/Images/FuncsPros.gif\" width=\"850\" />"
      ],
      "metadata": {
        "application/vnd.databricks.v1+cell": {
          "title": "",
          "showTitle": false,
          "inputWidgets": {},
          "nuid": "e5f70df0-81d3-481e-979c-87817863031d"
        },
        "id": "-8Zkrm0ZwhaX"
      }
    },
    {
      "cell_type": "markdown",
      "source": [
        "El código ** Block 1 ** y ** Block 2 ** ahora se pueden reemplazar con el código ** Block 3 ** y el código ** Block 4 **."
      ],
      "metadata": {
        "application/vnd.databricks.v1+cell": {
          "title": "",
          "showTitle": false,
          "inputWidgets": {},
          "nuid": "7f9205f1-ca0f-4eed-9b89-6db46169e6be"
        },
        "id": "CNObkPzOwhaX"
      }
    },
    {
      "cell_type": "markdown",
      "source": [
        "<h4>Block 3:</h4>"
      ],
      "metadata": {
        "application/vnd.databricks.v1+cell": {
          "title": "",
          "showTitle": false,
          "inputWidgets": {},
          "nuid": "3b2474cf-ca06-41fb-a62f-173b2336be42"
        },
        "id": "n5AhlwSewhaX"
      }
    },
    {
      "cell_type": "code",
      "source": [
        "a1 = 4\n",
        "b1 = 5\n",
        "c1 = Equation(a1, b1)\n",
        "c1"
      ],
      "metadata": {
        "application/vnd.databricks.v1+cell": {
          "title": "",
          "showTitle": false,
          "inputWidgets": {},
          "nuid": "c32abb06-f92f-4414-932a-6e7ec9f4a153"
        },
        "colab": {
          "base_uri": "https://localhost:8080/"
        },
        "id": "cyTMWVHmwhaX",
        "outputId": "63abf365-aaf8-47fa-b1ed-3d1f3017e4f1"
      },
      "outputs": [
        {
          "output_type": "execute_result",
          "data": {
            "text/plain": [
              "5"
            ]
          },
          "metadata": {},
          "execution_count": 21
        }
      ],
      "execution_count": null
    },
    {
      "cell_type": "code",
      "source": [],
      "metadata": {
        "id": "lN-tbmX1NQEc"
      },
      "execution_count": null,
      "outputs": []
    },
    {
      "cell_type": "markdown",
      "source": [
        "<h4>Block 4:</h4>"
      ],
      "metadata": {
        "application/vnd.databricks.v1+cell": {
          "title": "",
          "showTitle": false,
          "inputWidgets": {},
          "nuid": "83748f9a-1011-40cc-9307-edbb513d40cc"
        },
        "id": "yck_4rwjwhaX"
      }
    },
    {
      "cell_type": "code",
      "source": [
        "a2 = 0\n",
        "b2 = 0\n",
        "c2 = Equation(a2, b2)\n",
        "c2"
      ],
      "metadata": {
        "application/vnd.databricks.v1+cell": {
          "title": "",
          "showTitle": false,
          "inputWidgets": {},
          "nuid": "7e52961b-e3c7-4a02-adbb-b2e85b1df9e8"
        },
        "colab": {
          "base_uri": "https://localhost:8080/"
        },
        "id": "SinMYbw8whaX",
        "outputId": "bcac0ac6-3a11-4a0a-86c2-f766ddf473fe"
      },
      "outputs": [
        {
          "output_type": "execute_result",
          "data": {
            "text/plain": [
              "0"
            ]
          },
          "metadata": {},
          "execution_count": 22
        }
      ],
      "execution_count": null
    },
    {
      "cell_type": "markdown",
      "source": [
        "<h2 id=\"pre\">Funciones predefinidas</h2>"
      ],
      "metadata": {
        "application/vnd.databricks.v1+cell": {
          "title": "",
          "showTitle": false,
          "inputWidgets": {},
          "nuid": "969ef94c-597e-4a0f-8a6b-e5b40583c750"
        },
        "id": "9jXbfw1twhaX"
      }
    },
    {
      "cell_type": "markdown",
      "source": [
        "Hay muchas funciones predefinidas en Python, así que comencemos con las más simples."
      ],
      "metadata": {
        "application/vnd.databricks.v1+cell": {
          "title": "",
          "showTitle": false,
          "inputWidgets": {},
          "nuid": "342e7f08-7a5e-4ffb-bb0f-fd631b879738"
        },
        "id": "6-5yYYwRwhaX"
      }
    },
    {
      "cell_type": "markdown",
      "source": [
        "La función <code> print () </code>:"
      ],
      "metadata": {
        "application/vnd.databricks.v1+cell": {
          "title": "",
          "showTitle": false,
          "inputWidgets": {},
          "nuid": "1fb45bf0-29ac-437a-af78-6f1fe86f68bd"
        },
        "id": "2AcGW_wowhaX"
      }
    },
    {
      "cell_type": "code",
      "source": [
        "# Build-in function print()\n",
        "\n",
        "album_ratings = [10.0, 8.5, 9.5, 7.0, 7.0, 9.5, 9.0, 9.5]\n",
        "print(album_ratings)"
      ],
      "metadata": {
        "application/vnd.databricks.v1+cell": {
          "title": "",
          "showTitle": false,
          "inputWidgets": {},
          "nuid": "4f556d55-310d-47fa-b198-edc8a1502b9f"
        },
        "colab": {
          "base_uri": "https://localhost:8080/"
        },
        "id": "eXs6uAYvwhaY",
        "outputId": "0d0548d6-c96d-47d5-ff5a-516246b4826e"
      },
      "outputs": [
        {
          "output_type": "stream",
          "name": "stdout",
          "text": [
            "[10.0, 8.5, 9.5, 7.0, 7.0, 9.5, 9.0, 9.5]\n"
          ]
        }
      ],
      "execution_count": null
    },
    {
      "cell_type": "markdown",
      "source": [
        "La función <code> sum () </code> agrega todos los elementos en una lista o tupla:"
      ],
      "metadata": {
        "application/vnd.databricks.v1+cell": {
          "title": "",
          "showTitle": false,
          "inputWidgets": {},
          "nuid": "05d78052-25cd-462e-8e68-19db81c24f6a"
        },
        "id": "CTeVChrDwhaY"
      }
    },
    {
      "cell_type": "code",
      "source": [
        "# Use sum() to add every element in a list or tuple together\n",
        "\n",
        "sum(album_ratings)"
      ],
      "metadata": {
        "application/vnd.databricks.v1+cell": {
          "title": "",
          "showTitle": false,
          "inputWidgets": {},
          "nuid": "651822ef-ccb0-459b-b7c5-224983af53de"
        },
        "colab": {
          "base_uri": "https://localhost:8080/"
        },
        "id": "W-11yR8ywhaY",
        "outputId": "201abe0c-b077-4273-c7ef-b069c09998eb"
      },
      "outputs": [
        {
          "output_type": "execute_result",
          "data": {
            "text/plain": [
              "70.0"
            ]
          },
          "metadata": {},
          "execution_count": 24
        }
      ],
      "execution_count": null
    },
    {
      "cell_type": "markdown",
      "source": [
        "La función <code> len () </code> devuelve la longitud de una lista o tupla:"
      ],
      "metadata": {
        "application/vnd.databricks.v1+cell": {
          "title": "",
          "showTitle": false,
          "inputWidgets": {},
          "nuid": "31e5589a-df9a-4536-9d57-e1fc99c8b7ec"
        },
        "id": "15yssETSwhaY"
      }
    },
    {
      "cell_type": "code",
      "source": [
        "# Show the length of the list or tuple\n",
        "\n",
        "len(album_ratings)"
      ],
      "metadata": {
        "application/vnd.databricks.v1+cell": {
          "title": "",
          "showTitle": false,
          "inputWidgets": {},
          "nuid": "91e59e37-fb0b-4773-afb5-7d2ef4f32db1"
        },
        "colab": {
          "base_uri": "https://localhost:8080/"
        },
        "id": "EqlSBdrIwhaY",
        "outputId": "8c931b04-c8dc-49b6-d3c8-d876d69fd02d"
      },
      "outputs": [
        {
          "output_type": "execute_result",
          "data": {
            "text/plain": [
              "8"
            ]
          },
          "metadata": {},
          "execution_count": 25
        }
      ],
      "execution_count": null
    },
    {
      "cell_type": "markdown",
      "source": [
        "<h2 id=\"if\">Utilizando <code>if</code>/<code>else</code> y ciclos en Funciones</h2>"
      ],
      "metadata": {
        "application/vnd.databricks.v1+cell": {
          "title": "",
          "showTitle": false,
          "inputWidgets": {},
          "nuid": "9df99c76-1929-4bd4-9f09-d37c3ae58ee8"
        },
        "id": "quSPsAtzwhaZ"
      }
    },
    {
      "cell_type": "markdown",
      "source": [
        "La función <code> return () </code> es particularmente útil si tiene alguna declaración IF en la función, cuando desea que su salida dependa de alguna condición:"
      ],
      "metadata": {
        "application/vnd.databricks.v1+cell": {
          "title": "",
          "showTitle": false,
          "inputWidgets": {},
          "nuid": "69de84db-d056-4baa-b841-0488b7e4e3fa"
        },
        "id": "VfvVKFNDwhaZ"
      }
    },
    {
      "cell_type": "code",
      "source": [
        "# Function example\n",
        "\n",
        "def type_of_album(artist, album, year_released):\n",
        "\n",
        "    print(artist, album, year_released)\n",
        "    if year_released > 1980:\n",
        "        return \"Modern\"\n",
        "    else:\n",
        "        return \"Oldie\"\n",
        "\n",
        "x = type_of_album(\"Michael Jackson\", \"Thriller\", 1980)\n",
        "print(x)"
      ],
      "metadata": {
        "application/vnd.databricks.v1+cell": {
          "title": "",
          "showTitle": false,
          "inputWidgets": {},
          "nuid": "6d308671-bad3-4ded-8cea-2f29b5efc566"
        },
        "colab": {
          "base_uri": "https://localhost:8080/"
        },
        "id": "etOwbkdwwhaZ",
        "outputId": "e7cdc8ec-e8aa-498a-9f7d-27a141c569b4"
      },
      "outputs": [
        {
          "output_type": "stream",
          "name": "stdout",
          "text": [
            "Michael Jackson Thriller 1980\n",
            "Oldie\n"
          ]
        }
      ],
      "execution_count": null
    },
    {
      "cell_type": "markdown",
      "source": [
        "Podemos usar un bucle en una función. Por ejemplo, podemos <code> imprimir </code> cada elemento en una lista:"
      ],
      "metadata": {
        "application/vnd.databricks.v1+cell": {
          "title": "",
          "showTitle": false,
          "inputWidgets": {},
          "nuid": "47f208d2-34e1-449a-aff5-8c8c157baf39"
        },
        "id": "RhRMGaLZwhaZ"
      }
    },
    {
      "cell_type": "code",
      "source": [
        "# Print the list using for loop\n",
        "\n",
        "def PrintList(the_list):\n",
        "    for element in the_list:\n",
        "        print(element)"
      ],
      "metadata": {
        "collapsed": true,
        "application/vnd.databricks.v1+cell": {
          "title": "",
          "showTitle": false,
          "inputWidgets": {},
          "nuid": "1b732929-dd84-4c8a-ada5-f09b835f56e0"
        },
        "id": "bIK4kQa5whaZ"
      },
      "outputs": [],
      "execution_count": null
    },
    {
      "cell_type": "code",
      "source": [
        "# Implement the printlist function\n",
        "\n",
        "PrintList(['1', 1, 'the man', \"abc\"])"
      ],
      "metadata": {
        "application/vnd.databricks.v1+cell": {
          "title": "",
          "showTitle": false,
          "inputWidgets": {},
          "nuid": "4dd08490-6b0d-4260-a05b-6cd157bbd380"
        },
        "colab": {
          "base_uri": "https://localhost:8080/"
        },
        "id": "47NHbVg1whaZ",
        "outputId": "290ff978-3dee-41bb-ad26-06398abcee5f"
      },
      "outputs": [
        {
          "output_type": "stream",
          "name": "stdout",
          "text": [
            "1\n",
            "1\n",
            "the man\n",
            "abc\n"
          ]
        }
      ],
      "execution_count": null
    },
    {
      "cell_type": "markdown",
      "source": [
        "<h2 id=\"default\">Establecer valores de argumento predeterminados en sus funciones personalizadas</h2>"
      ],
      "metadata": {
        "application/vnd.databricks.v1+cell": {
          "title": "",
          "showTitle": false,
          "inputWidgets": {},
          "nuid": "3d1da400-b47b-45b3-b672-e70a3650e569"
        },
        "id": "HuFAxel9whaZ"
      }
    },
    {
      "cell_type": "markdown",
      "source": [
        "Puede establecer un valor predeterminado para los argumentos en su función. Por ejemplo, en la función <code> isGoodRating () </code>, ¿qué pasaría si quisiéramos crear un umbral para lo que consideramos una buena calificación? Quizás de forma predeterminada, deberíamos tener una calificación predeterminada de 4:"
      ],
      "metadata": {
        "application/vnd.databricks.v1+cell": {
          "title": "",
          "showTitle": false,
          "inputWidgets": {},
          "nuid": "cefd6b03-2622-4795-aa4a-34fa43ec6d96"
        },
        "id": "KB3Itr0kwhaZ"
      }
    },
    {
      "cell_type": "code",
      "source": [
        "# Example for setting param with default value\n",
        "\n",
        "def isGoodRating(rating=4):\n",
        "    if(rating < 7):\n",
        "        print(\"this album sucks it's rating is\",rating)\n",
        "\n",
        "    else:\n",
        "        print(\"this album is good its rating is\",rating)\n"
      ],
      "metadata": {
        "application/vnd.databricks.v1+cell": {
          "title": "",
          "showTitle": false,
          "inputWidgets": {},
          "nuid": "18249a6f-58e5-4edb-a232-c2bd1d86a1f9"
        },
        "id": "elhMvWNUwhaZ"
      },
      "outputs": [],
      "execution_count": null
    },
    {
      "cell_type": "code",
      "source": [
        "# Test the value with default value and with input\n",
        "\n",
        "isGoodRating()\n",
        "isGoodRating(10)"
      ],
      "metadata": {
        "application/vnd.databricks.v1+cell": {
          "title": "",
          "showTitle": false,
          "inputWidgets": {},
          "nuid": "b7b66e1e-6d18-4bd8-b970-90c7d85e1363"
        },
        "colab": {
          "base_uri": "https://localhost:8080/"
        },
        "id": "_40YjCs0whaZ",
        "outputId": "c2853194-e27f-487e-bdc5-5a3e00121f64"
      },
      "outputs": [
        {
          "output_type": "stream",
          "name": "stdout",
          "text": [
            "this album sucks it's rating is 4\n",
            "this album is good its rating is 10\n"
          ]
        }
      ],
      "execution_count": null
    },
    {
      "cell_type": "markdown",
      "source": [
        "<h2 id=\"global\">Variable globales</h2>"
      ],
      "metadata": {
        "application/vnd.databricks.v1+cell": {
          "title": "",
          "showTitle": false,
          "inputWidgets": {},
          "nuid": "35d2ba05-fd60-4ad1-b251-fd949492e7f9"
        },
        "id": "gmK492mYwhaZ"
      }
    },
    {
      "cell_type": "markdown",
      "source": [
        "Hasta ahora, hemos estado creando variables dentro de funciones, pero no hemos discutido variables fuera de la función. Se denominan variables globales.\n",
        "<br>\n",
        "Intentemos ver qué devuelve <code> printer1 </code>:"
      ],
      "metadata": {
        "application/vnd.databricks.v1+cell": {
          "title": "",
          "showTitle": false,
          "inputWidgets": {},
          "nuid": "ad8c5790-5b3d-4951-a3c9-39ea5ff2a997"
        },
        "id": "_wdDtvVjwhaZ"
      }
    },
    {
      "cell_type": "code",
      "source": [
        "# Example of global variable\n",
        "\n",
        "artist = \"Michael Jackson\"\n",
        "def printer1(artist):\n",
        "    internal_var = artist\n",
        "    print(artist, \"is an artist\")\n",
        "\n",
        "printer1(artist)"
      ],
      "metadata": {
        "application/vnd.databricks.v1+cell": {
          "title": "",
          "showTitle": false,
          "inputWidgets": {},
          "nuid": "0041124e-07b0-4ced-8844-75737e36adcf"
        },
        "colab": {
          "base_uri": "https://localhost:8080/"
        },
        "id": "3jG0_jghwhaZ",
        "outputId": "61781ca2-00b0-4a96-aff5-343d65723b45"
      },
      "outputs": [
        {
          "output_type": "stream",
          "name": "stdout",
          "text": [
            "Michael Jackson is an artist\n"
          ]
        }
      ],
      "execution_count": null
    },
    {
      "cell_type": "markdown",
      "source": [
        "Si imprimimos <code> internal_var </code> obtenemos un error."
      ],
      "metadata": {
        "application/vnd.databricks.v1+cell": {
          "title": "",
          "showTitle": false,
          "inputWidgets": {},
          "nuid": "08ebbef9-e1f6-4940-9b8a-ffbb0284d1f4"
        },
        "id": "hDGCZz0Hwhaa"
      }
    },
    {
      "cell_type": "markdown",
      "source": [
        "<b> Tenemos un error de nombre: <code> nombre 'internal_var' no está definido </code>. ¿Por qué? </b>\n",
        "\n",
        "Es porque todas las variables que creamos en la función es una <b> variable local </b>, lo que significa que la asignación de la variable no persiste fuera de la función.\n",
        "\n",
        "Pero hay una forma de crear <b> variables globales </b> desde dentro de una función de la siguiente manera:"
      ],
      "metadata": {
        "application/vnd.databricks.v1+cell": {
          "title": "",
          "showTitle": false,
          "inputWidgets": {},
          "nuid": "4faee21b-10fc-49f2-b5c0-d7a29728b431"
        },
        "id": "5zavSnA_whaa"
      }
    },
    {
      "cell_type": "code",
      "source": [
        "artist = \"Michael Jackson\"\n",
        "\n",
        "def printer(artist):\n",
        "    global internal_var\n",
        "    internal_var= \"Whitney Houston\"\n",
        "    print(artist,\"is an artist\")\n",
        "\n",
        "printer(artist)\n",
        "printer(internal_var)"
      ],
      "metadata": {
        "application/vnd.databricks.v1+cell": {
          "title": "",
          "showTitle": false,
          "inputWidgets": {},
          "nuid": "4d65ae60-040c-472f-b541-657915951f75"
        },
        "colab": {
          "base_uri": "https://localhost:8080/"
        },
        "id": "yOk_hTo1whaa",
        "outputId": "e2ea88e2-00b5-4e92-ca14-0b3cc05984b2"
      },
      "outputs": [
        {
          "output_type": "stream",
          "name": "stdout",
          "text": [
            "Michael Jackson is an artist\n",
            "Whitney Houston is an artist\n"
          ]
        }
      ],
      "execution_count": null
    },
    {
      "cell_type": "markdown",
      "source": [
        "<h2 id=\"scope\">Ámbito de una variable</h2>"
      ],
      "metadata": {
        "application/vnd.databricks.v1+cell": {
          "title": "",
          "showTitle": false,
          "inputWidgets": {},
          "nuid": "bb7c1336-795f-4573-8b48-e0b06678ebab"
        },
        "id": "iR1RTuf4whaa"
      }
    },
    {
      "cell_type": "markdown",
      "source": [
        "El alcance de una variable es la parte de ese programa donde esa variable es accesible. Las variables que se declaran fuera de todas las definiciones de funciones, como la variable <code> myFavouriteBand </code> en el código que se muestra aquí, son accesibles desde cualquier lugar dentro del programa. Como resultado, se dice que tales variables tienen alcance global y se conocen como variables globales.\n",
        "     <code> myFavouriteBand </code> es una variable global, por lo que es accesible desde la función <code> getBandRating </code>, y podemos usarla para determinar la clasificación de una banda. También podemos usarlo fuera de la función, como cuando lo pasamos a la función de impresión para mostrarlo:"
      ],
      "metadata": {
        "application/vnd.databricks.v1+cell": {
          "title": "",
          "showTitle": false,
          "inputWidgets": {},
          "nuid": "ab5cca33-79cf-4846-bca0-d339fcce1c1d"
        },
        "id": "5GWooz3ywhaa"
      }
    },
    {
      "cell_type": "code",
      "source": [
        "# Example of global variable\n",
        "\n",
        "myFavouriteBand = \"AC/DC\"\n",
        "\n",
        "def getBandRating(bandname):\n",
        "    if bandname == myFavouriteBand:\n",
        "        return 10.0\n",
        "    else:\n",
        "        return 0.0\n",
        "\n",
        "print(\"AC/DC's rating is:\", getBandRating(\"AC/DC\"))\n",
        "print(\"Deep Purple's rating is:\",getBandRating(\"Deep Purple\"))\n",
        "print(\"My favourite band is:\", myFavouriteBand)"
      ],
      "metadata": {
        "application/vnd.databricks.v1+cell": {
          "title": "",
          "showTitle": false,
          "inputWidgets": {},
          "nuid": "680d0da1-8160-4496-a636-578602b6f7d0"
        },
        "colab": {
          "base_uri": "https://localhost:8080/"
        },
        "id": "09JfABggwhaa",
        "outputId": "6cf99dac-31bc-4aad-d8d3-c3603cca814a"
      },
      "outputs": [
        {
          "output_type": "stream",
          "name": "stdout",
          "text": [
            "AC/DC's rating is: 10.0\n",
            "Deep Purple's rating is: 0.0\n",
            "My favourite band is: AC/DC\n"
          ]
        }
      ],
      "execution_count": null
    },
    {
      "cell_type": "markdown",
      "source": [
        "Eche un vistazo a esta versión modificada de nuestro código. Ahora la variable <code> myFavouriteBand </code> está definida dentro de la función <code> getBandRating </code>. Una variable que se define dentro de una función se dice que es una variable local de esa función. Eso significa que solo es accesible desde dentro de la función en la que está definido. Nuestra función <code> getBandRating </code> seguirá funcionando, porque <code> myFavouriteBand </code> todavía está definida dentro de la función. Sin embargo, ya no podemos imprimir <code> myFavouriteBand </code> fuera de nuestra función, porque es una variable local de nuestra función <code> getBandRating </code>; solo se define dentro de la función <code> getBandRating </code>:"
      ],
      "metadata": {
        "application/vnd.databricks.v1+cell": {
          "title": "",
          "showTitle": false,
          "inputWidgets": {},
          "nuid": "3e155f44-3d16-4ea3-bc14-2335f5b2aff2"
        },
        "id": "IJUFdCC9whaa"
      }
    },
    {
      "cell_type": "code",
      "source": [
        "# Example of local variable\n",
        "\n",
        "def getBandRating(bandname):\n",
        "    myFavouriteBand = \"AC/DC\"\n",
        "    if bandname == myFavouriteBand:\n",
        "        return 10.0\n",
        "    else:\n",
        "        return 0.0\n",
        "\n",
        "print(\"AC/DC's rating is: \", getBandRating(\"AC/DC\"))\n",
        "print(\"Deep Purple's rating is: \", getBandRating(\"Deep Purple\"))\n",
        "print(\"My favourite band is\", myFavouriteBand)"
      ],
      "metadata": {
        "application/vnd.databricks.v1+cell": {
          "title": "",
          "showTitle": false,
          "inputWidgets": {},
          "nuid": "1dcc9b39-03a6-41f5-977a-01fe0d7ab9a2"
        },
        "colab": {
          "base_uri": "https://localhost:8080/"
        },
        "id": "luFNNQ5_whaa",
        "outputId": "6e0d465e-64ec-4aa4-a191-3ab59c673af0"
      },
      "outputs": [
        {
          "output_type": "stream",
          "name": "stdout",
          "text": [
            "AC/DC's rating is:  10.0\n",
            "Deep Purple's rating is:  0.0\n",
            "My favourite band is AC/DC\n"
          ]
        }
      ],
      "execution_count": null
    },
    {
      "cell_type": "markdown",
      "source": [
        "Finalmente, eche un vistazo a este ejemplo. Ahora tenemos dos definiciones de variable <code> myFavouriteBand </code>. El primero de ellos tiene un alcance global y el segundo es una variable local dentro de la función <code> getBandRating </code>. Dentro de la función <code> getBandRating </code>, la variable local tiene prioridad. ** Deep Purple ** recibirá una calificación de 10.0 cuando se pase a la función <code> getBandRating </code>. Sin embargo, fuera de la función <code> getBandRating </code>, la variable local <code> getBandRating </code> no está definida, por lo que la variable <code> myFavouriteBand </code> que imprimimos es la variable global, que tiene un valor de ** AC / DC **:"
      ],
      "metadata": {
        "application/vnd.databricks.v1+cell": {
          "title": "",
          "showTitle": false,
          "inputWidgets": {},
          "nuid": "81eadbad-ed79-4b45-ab3e-a476e18c804c"
        },
        "id": "xKRwVi91whaa"
      }
    },
    {
      "cell_type": "code",
      "source": [
        "# Example of global variable and local variable with the same name\n",
        "\n",
        "myFavouriteBand = \"AC/DC\"\n",
        "\n",
        "def getBandRating(bandname):\n",
        "    myFavouriteBand = \"Deep Purple\"\n",
        "    if bandname == myFavouriteBand:\n",
        "        return 10.0\n",
        "    else:\n",
        "        return 0.0\n",
        "\n",
        "print(\"AC/DC's rating is:\",getBandRating(\"AC/DC\"))\n",
        "print(\"Deep Purple's rating is: \",getBandRating(\"Deep Purple\"))\n",
        "print(\"My favourite band is:\",myFavouriteBand)"
      ],
      "metadata": {
        "application/vnd.databricks.v1+cell": {
          "title": "",
          "showTitle": false,
          "inputWidgets": {},
          "nuid": "49508fb2-e79b-4d4a-aa06-104d85877bba"
        },
        "colab": {
          "base_uri": "https://localhost:8080/"
        },
        "id": "jRKsDsaRwhaa",
        "outputId": "70ca5110-a4ad-4e91-9255-567db1a1cb29"
      },
      "outputs": [
        {
          "output_type": "stream",
          "name": "stdout",
          "text": [
            "AC/DC's rating is: 0.0\n",
            "Deep Purple's rating is:  10.0\n",
            "My favourite band is: AC/DC\n"
          ]
        }
      ],
      "execution_count": null
    },
    {
      "cell_type": "markdown",
      "source": [
        "<h2>Cuestionario sobre funciones</h2>"
      ],
      "metadata": {
        "application/vnd.databricks.v1+cell": {
          "title": "",
          "showTitle": false,
          "inputWidgets": {},
          "nuid": "851b6283-eb16-46fe-bec7-47b67594b61d"
        },
        "id": "F_5aaqTVwhab"
      }
    },
    {
      "cell_type": "markdown",
      "source": [
        "Cree una función que divida la primera entrada por la segunda entrada:"
      ],
      "metadata": {
        "application/vnd.databricks.v1+cell": {
          "title": "",
          "showTitle": false,
          "inputWidgets": {},
          "nuid": "68f62614-9c2d-4275-b042-9938d5a1c1f3"
        },
        "id": "ViK1D-XEwhab"
      }
    },
    {
      "cell_type": "code",
      "source": [
        "# Escribe abajo tu código y presiona Shift+Enter para ejecutarlo\n",
        "\n",
        "# Se crea la funcion con sus entradas\n",
        "def divid(a , b):\n",
        "  # Se genera la división\n",
        "  c = a/b\n",
        "  print(\"The divided value is equal to: \", c)\n",
        "  return c;"
      ],
      "metadata": {
        "application/vnd.databricks.v1+cell": {
          "title": "",
          "showTitle": false,
          "inputWidgets": {},
          "nuid": "a0d4890b-a143-4d3a-803f-c07c7e76fea6"
        },
        "id": "yswonJeIwhab"
      },
      "outputs": [],
      "execution_count": null
    },
    {
      "cell_type": "markdown",
      "source": [
        "Haz doble click __aquí__ para ver la solución..\n",
        "\n",
        "<!--\n",
        "def div(a, b):\n",
        "    return(a/b)\n",
        "-->"
      ],
      "metadata": {
        "application/vnd.databricks.v1+cell": {
          "title": "",
          "showTitle": false,
          "inputWidgets": {},
          "nuid": "50a50af9-012b-4ed1-8e87-17be1ea84895"
        },
        "id": "-Jpc_FlEwhab"
      }
    },
    {
      "cell_type": "markdown",
      "source": [
        "Utilice la función <code> con </code> para la siguiente pregunta."
      ],
      "metadata": {
        "application/vnd.databricks.v1+cell": {
          "title": "",
          "showTitle": false,
          "inputWidgets": {},
          "nuid": "fb677ca4-4394-4412-a4b1-30c16b947b43"
        },
        "id": "TBZ7GDl1whab"
      }
    },
    {
      "cell_type": "code",
      "source": [
        "# Usa la función con para la siguiente pregunta\n",
        "\n",
        "def con(a, b):\n",
        "    return(a + b)"
      ],
      "metadata": {
        "application/vnd.databricks.v1+cell": {
          "title": "",
          "showTitle": false,
          "inputWidgets": {},
          "nuid": "2057c384-d762-4402-b8ba-1cca7fced9eb"
        },
        "id": "mNI6UmKbwhab"
      },
      "outputs": [],
      "execution_count": null
    },
    {
      "cell_type": "markdown",
      "source": [
        "¿Se puede usar la función <code> con </code> que definimos antes para agregar números enteros o cadenas?"
      ],
      "metadata": {
        "application/vnd.databricks.v1+cell": {
          "title": "",
          "showTitle": false,
          "inputWidgets": {},
          "nuid": "7fb77ac6-5c71-41d7-9bdd-ab9753b1e676"
        },
        "id": "0jiXfRivwhab"
      }
    },
    {
      "cell_type": "code",
      "source": [
        "# Escribe abajo tu código y presiona Shift+Enter para ejecutarlo\n",
        "cadena = \"NO se deberia de agregar un numero\"\n",
        "#con(5, cadena) # ESTO DEBERIA DE SACAR UN ERROR por recibir un int y una cadena\n",
        "con('5', cadena) # este si funciona"
      ],
      "metadata": {
        "application/vnd.databricks.v1+cell": {
          "title": "",
          "showTitle": false,
          "inputWidgets": {},
          "nuid": "52c8054c-284f-45d5-9065-df7790b35b06"
        },
        "colab": {
          "base_uri": "https://localhost:8080/",
          "height": 35
        },
        "id": "WuAi8nR9whab",
        "outputId": "36e73336-25e5-4c7e-a031-852e0c0b780b"
      },
      "outputs": [
        {
          "output_type": "execute_result",
          "data": {
            "text/plain": [
              "'5NO se deberia de agregar un numero'"
            ],
            "application/vnd.google.colaboratory.intrinsic+json": {
              "type": "string"
            }
          },
          "metadata": {},
          "execution_count": 39
        }
      ],
      "execution_count": 39
    },
    {
      "cell_type": "markdown",
      "source": [
        "Haz doble click __aquí__ para ver la solución.\n",
        "\n",
        "<!--\n",
        "yes, for example:\n",
        "con(2, 2)\n",
        " -->"
      ],
      "metadata": {
        "application/vnd.databricks.v1+cell": {
          "title": "",
          "showTitle": false,
          "inputWidgets": {},
          "nuid": "70c226e1-d4c2-46f7-99e8-7b60b428a659"
        },
        "id": "IYi_CkAlwhab"
      }
    },
    {
      "cell_type": "markdown",
      "source": [
        "¿Se puede usar la función <code> con </code> que definimos antes para concentrar una lista o tupla?"
      ],
      "metadata": {
        "application/vnd.databricks.v1+cell": {
          "title": "",
          "showTitle": false,
          "inputWidgets": {},
          "nuid": "44a25b2a-a8d7-4985-abcc-183fabbb53cd"
        },
        "id": "_dj3-BQPwhab"
      }
    },
    {
      "cell_type": "code",
      "source": [
        "# Escribe abajo tu código y presiona Shift+Enter para ejecutarlo\n",
        "# Se crean listas y tuplas y se prueba\n",
        "a = ['Si sirvo!']\n",
        "b = ['¿y las tuplas?']\n",
        "c=con(a,b)\n",
        "print(c)\n"
      ],
      "metadata": {
        "application/vnd.databricks.v1+cell": {
          "title": "",
          "showTitle": false,
          "inputWidgets": {},
          "nuid": "305e27e1-3198-4e15-a316-fae0c4883bd0"
        },
        "id": "tV9pULNNwhab"
      },
      "outputs": [],
      "execution_count": null
    },
    {
      "cell_type": "markdown",
      "source": [
        "Haz doble click __aquí__ para ver la solución.\n",
        "\n",
        "<!--\n",
        "yes,for example:\n",
        "con(['a', 1], ['b', 1])\n",
        "-->"
      ],
      "metadata": {
        "application/vnd.databricks.v1+cell": {
          "title": "",
          "showTitle": false,
          "inputWidgets": {},
          "nuid": "1d2dab4a-5f66-455e-be10-678dd299ab1b"
        },
        "id": "EhNAE14gwhab"
      }
    }
  ],
  "metadata": {
    "kernelspec": {
      "display_name": "Python 3",
      "language": "python",
      "name": "python3"
    },
    "language_info": {
      "mimetype": "text/x-python",
      "name": "python",
      "pygments_lexer": "ipython3",
      "codemirror_mode": {
        "name": "ipython",
        "version": 3
      },
      "version": "3.8.3",
      "nbconvert_exporter": "python",
      "file_extension": ".py"
    },
    "application/vnd.databricks.v1+notebook": {
      "notebookName": "08-Python-Funciones",
      "dashboards": [],
      "notebookMetadata": {
        "pythonIndentUnit": 2
      },
      "language": "python",
      "widgets": {},
      "notebookOrigID": 3296315911138926
    },
    "colab": {
      "provenance": []
    }
  },
  "nbformat": 4,
  "nbformat_minor": 0
}