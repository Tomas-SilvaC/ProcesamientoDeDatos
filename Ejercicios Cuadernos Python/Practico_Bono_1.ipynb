{
  "cells": [
    {
      "cell_type": "markdown",
      "metadata": {
        "id": "dkfTfb7kKfO8"
      },
      "source": [
        "## CALENTAMIENTO:"
      ]
    },
    {
      "cell_type": "markdown",
      "source": [
        "# **Pontificia Universidad Javeriana**\n",
        "##**Tomas Alejandro Silva Correal**\n",
        "\n",
        "**10 de Agosto de 2025**\n",
        "\n",
        "**Ejercicio Bono Cuadernos de Python Procesamiento de Datos 2530**"
      ],
      "metadata": {
        "id": "vLwpPO8PPnBR"
      }
    },
    {
      "cell_type": "markdown",
      "metadata": {
        "id": "jKNiFouRKfO8"
      },
      "source": [
        "#### MENOR DE DOS PARES: Escriba una función que devuelva el menor de dos números dados *si* ambos números son pares, pero devuelva el mayor si uno o ambos números son impares\n",
        "    lesser_of_two_evens(2,4) --> 2\n",
        "    lesser_of_two_evens(2,5) --> 5"
      ]
    },
    {
      "cell_type": "code",
      "execution_count": 43,
      "metadata": {
        "id": "HF8_a_2IKfO8"
      },
      "outputs": [],
      "source": [
        "def lesser_of_two_evens(a,b):\n",
        "    pass\n",
        "    #Colocar aqui la respuesta\n",
        "    #En caso de ser par\n",
        "    if (a % 2 == 0) and (b % 2 == 0):\n",
        "      #Si a es menor que b\n",
        "      if a<b:\n",
        "        return a\n",
        "      #De no serlo, retorna b que es o igual o menor que a\n",
        "      else:\n",
        "        return b\n",
        "    #En caso de ser impar\n",
        "    else:\n",
        "      #Si a es mayor que b\n",
        "      if a>b:\n",
        "        return a\n",
        "      #De no serlo, retorna b que es o igual o mayor que a\n",
        "      else:\n",
        "        return b\n",
        ""
      ]
    },
    {
      "cell_type": "code",
      "execution_count": 44,
      "metadata": {
        "id": "fOv0K9mXKfO9",
        "outputId": "fc31d4c1-c552-45c3-ae75-4d4308183da0",
        "colab": {
          "base_uri": "https://localhost:8080/"
        }
      },
      "outputs": [
        {
          "output_type": "execute_result",
          "data": {
            "text/plain": [
              "2"
            ]
          },
          "metadata": {},
          "execution_count": 44
        }
      ],
      "source": [
        "# Revisión\n",
        "lesser_of_two_evens(2,4)"
      ]
    },
    {
      "cell_type": "code",
      "execution_count": 45,
      "metadata": {
        "id": "UMKYl4NgKfO-",
        "outputId": "e6c76f8b-0adf-4201-a1a6-758a9a9011df",
        "colab": {
          "base_uri": "https://localhost:8080/"
        }
      },
      "outputs": [
        {
          "output_type": "execute_result",
          "data": {
            "text/plain": [
              "5"
            ]
          },
          "metadata": {},
          "execution_count": 45
        }
      ],
      "source": [
        "# Revisión\n",
        "lesser_of_two_evens(2,5)"
      ]
    },
    {
      "cell_type": "markdown",
      "metadata": {
        "id": "ZdEE37WBKfO-"
      },
      "source": [
        "#### GALLETAS DE ANIMALES: Escribir una función que toma una cadena de dos palabras y devuelve True si ambas palabras comienzan con la misma letra\n",
        "    animal_crackers('Ciudad Calor') --> True\n",
        "    animal_crackers('Lugar Frio') --> False"
      ]
    },
    {
      "cell_type": "code",
      "execution_count": 46,
      "metadata": {
        "id": "6JEJK4lcKfO_"
      },
      "outputs": [],
      "source": [
        "def animal_crackers(text):\n",
        "  pass\n",
        "  #Se divide la cadena en una lista de dos cadenas\n",
        "  c=text.split()\n",
        "  #Revisa si el primer caracter de ambas palabras es la misma\n",
        "  if c[0][0].upper() == c[1][0].upper():\n",
        "    return True\n",
        "  else:\n",
        "    return False\n"
      ]
    },
    {
      "cell_type": "code",
      "execution_count": 47,
      "metadata": {
        "id": "RZp5N4-6KfO_",
        "outputId": "24a6383b-54cc-44fa-bcd5-3c54bf5ded9e",
        "colab": {
          "base_uri": "https://localhost:8080/"
        }
      },
      "outputs": [
        {
          "output_type": "execute_result",
          "data": {
            "text/plain": [
              "True"
            ]
          },
          "metadata": {},
          "execution_count": 47
        }
      ],
      "source": [
        "# Revisión\n",
        "animal_crackers('Ciudad Calor')"
      ]
    },
    {
      "cell_type": "code",
      "execution_count": 48,
      "metadata": {
        "id": "zaGYt5L8KfO_",
        "outputId": "2151ef28-882f-48d7-f502-d989e7eabde3",
        "colab": {
          "base_uri": "https://localhost:8080/"
        }
      },
      "outputs": [
        {
          "output_type": "execute_result",
          "data": {
            "text/plain": [
              "False"
            ]
          },
          "metadata": {},
          "execution_count": 48
        }
      ],
      "source": [
        "# Revisión\n",
        "animal_crackers('Lugar Frio')"
      ]
    },
    {
      "cell_type": "markdown",
      "metadata": {
        "id": "Xln0rzZ3KfPA"
      },
      "source": [
        "#### HACE VEINTE: dados dos enteros, devuelve True si la suma de los enteros es 20 o si uno de los enteros es 20. De lo contrario, devuelve False\n",
        "\n",
        "    makes_twenty(20,10) --> True\n",
        "    makes_twenty(12,8) --> True\n",
        "    makes_twenty(2,3) --> False"
      ]
    },
    {
      "cell_type": "code",
      "execution_count": 49,
      "metadata": {
        "id": "wBbR7Xx_KfPA"
      },
      "outputs": [],
      "source": [
        "def makes_twenty(n1,n2):\n",
        "  pass\n",
        "  #Revisa si da 20 en alguno de los dos valores o si la suma da 20 para dar True\n",
        "  if (n1 == 20) or (n2 == 20) or (n1 + n2 == 20):\n",
        "    return True\n",
        "  else:\n",
        "    return False"
      ]
    },
    {
      "cell_type": "code",
      "execution_count": 50,
      "metadata": {
        "id": "6jHiJxnwKfPA",
        "outputId": "03684df4-364e-4433-c7fe-817437a78a65",
        "colab": {
          "base_uri": "https://localhost:8080/"
        }
      },
      "outputs": [
        {
          "output_type": "execute_result",
          "data": {
            "text/plain": [
              "True"
            ]
          },
          "metadata": {},
          "execution_count": 50
        }
      ],
      "source": [
        "# Revisión\n",
        "makes_twenty(20,10)"
      ]
    },
    {
      "cell_type": "code",
      "execution_count": 51,
      "metadata": {
        "id": "zZIdlGLeKfPA",
        "outputId": "fbf287cc-13a4-4c1a-daf9-e8598ffe13e5",
        "colab": {
          "base_uri": "https://localhost:8080/"
        }
      },
      "outputs": [
        {
          "output_type": "execute_result",
          "data": {
            "text/plain": [
              "False"
            ]
          },
          "metadata": {},
          "execution_count": 51
        }
      ],
      "source": [
        "# Revisión\n",
        "makes_twenty(2,3)"
      ]
    },
    {
      "cell_type": "code",
      "execution_count": 52,
      "metadata": {
        "id": "BlJKTZX9KfPA",
        "outputId": "2591aa1b-a5e2-4510-8383-382346b0ee41",
        "colab": {
          "base_uri": "https://localhost:8080/"
        }
      },
      "outputs": [
        {
          "output_type": "execute_result",
          "data": {
            "text/plain": [
              "True"
            ]
          },
          "metadata": {},
          "execution_count": 52
        }
      ],
      "source": [
        "makes_twenty(12,8)"
      ]
    },
    {
      "cell_type": "markdown",
      "metadata": {
        "id": "d3Fka2vRKfPB"
      },
      "source": [
        "# Nivel 1"
      ]
    },
    {
      "cell_type": "markdown",
      "metadata": {
        "id": "H_e_DMbnKfPB"
      },
      "source": [
        "#### MAYÚSCULAS: Escribir una función que haga mayúscula la primera y cuarta letra de una cadena de texto\n",
        "     \n",
        "    old_macdonald('macdonald') --> MacDonald\n",
        "    \n",
        "Note: `'macdonald'.capitalize()` returns `'Macdonald'`"
      ]
    },
    {
      "cell_type": "code",
      "execution_count": 53,
      "metadata": {
        "id": "ZiXJrY8uKfPB"
      },
      "outputs": [],
      "source": [
        "def old_macdonald(name):\n",
        "    pass\n",
        "    a=1\n",
        "    # Inicia una nueva cadena con la primera letra mayuscula\n",
        "    c=name[0].upper()\n",
        "    # Agrega cada letra de la cadena, la cuarta tornandose mayuscula de agregarla\n",
        "    while a<len(name):\n",
        "      if a == 3:\n",
        "        c = c + name[3].upper()\n",
        "      else:\n",
        "        c = c + name[a]\n",
        "      a+=1\n",
        "\n",
        "    return(c)\n",
        "\n",
        ""
      ]
    },
    {
      "cell_type": "code",
      "execution_count": 54,
      "metadata": {
        "id": "wtu_baYIKfPB",
        "outputId": "21f548b5-a951-4682-d844-1487f155da5c",
        "colab": {
          "base_uri": "https://localhost:8080/",
          "height": 35
        }
      },
      "outputs": [
        {
          "output_type": "execute_result",
          "data": {
            "text/plain": [
              "'MacDonald'"
            ],
            "application/vnd.google.colaboratory.intrinsic+json": {
              "type": "string"
            }
          },
          "metadata": {},
          "execution_count": 54
        }
      ],
      "source": [
        "# Check\n",
        "old_macdonald('macdonald')"
      ]
    },
    {
      "cell_type": "markdown",
      "metadata": {
        "id": "E24LlJo1KfPC"
      },
      "source": [
        "#### REVERSA: Dada una oración, retornar la misma oración pero en reversa\n",
        "\n",
        "    master_yoda('I am home') --> 'home am I'\n",
        "    master_yoda('We are ready') --> 'ready are We'\n",
        "    \n",
        "Note: Revisar método .join()\n",
        "\n",
        "    >>> \"--\".join(['a','b','c'])\n",
        "    >>> 'a--b--c'\n",
        "\n",
        "Resultado de .join():\n",
        "\n",
        "    >>> \" \".join(['Hello','world'])\n",
        "    >>> \"Hello world\""
      ]
    },
    {
      "cell_type": "code",
      "execution_count": 55,
      "metadata": {
        "id": "6K4nw15nKfPC"
      },
      "outputs": [],
      "source": [
        "def master_yoda(text):\n",
        "    pass\n",
        "    #Se convierte a una lista de cadenas\n",
        "    c=text.split()\n",
        "    #Se invierte la lista\n",
        "    a=c[::-1]\n",
        "    #Se convierte devuelta a una cadena\n",
        "    b=\" \".join(a)\n",
        "    #Se imprime el resultado\n",
        "    print(b)\n",
        ""
      ]
    },
    {
      "cell_type": "code",
      "execution_count": 56,
      "metadata": {
        "id": "BXdDWf0BKfPC"
      },
      "outputs": [],
      "source": [
        "######"
      ]
    },
    {
      "cell_type": "code",
      "execution_count": 57,
      "metadata": {
        "id": "2DqSErszKfPD",
        "outputId": "f673dd4e-f1d9-47b1-d575-713bbf389072",
        "colab": {
          "base_uri": "https://localhost:8080/"
        }
      },
      "outputs": [
        {
          "output_type": "stream",
          "name": "stdout",
          "text": [
            "home am I\n"
          ]
        }
      ],
      "source": [
        "# Revisión\n",
        "master_yoda('I am home')"
      ]
    },
    {
      "cell_type": "code",
      "execution_count": 58,
      "metadata": {
        "id": "efa9vdLSKfPD",
        "outputId": "37b3c58f-4811-4f10-e99e-1c3864cba52a",
        "colab": {
          "base_uri": "https://localhost:8080/"
        }
      },
      "outputs": [
        {
          "output_type": "stream",
          "name": "stdout",
          "text": [
            "ready are We\n"
          ]
        }
      ],
      "source": [
        "# Revisión\n",
        "master_yoda('We are ready')"
      ]
    },
    {
      "cell_type": "markdown",
      "metadata": {
        "id": "9jquqRm7KfPE"
      },
      "source": [
        "# Nivel 2"
      ]
    },
    {
      "cell_type": "markdown",
      "metadata": {
        "id": "S5V3SVDGKfPE"
      },
      "source": [
        "#### PROBLEMA 33:\n",
        "\n",
        "Dada una lista de enteros, retornar True si el arreglo tinene un  3  seguido por un  3 .\n",
        "\n",
        "    has_33([1, 3, 3]) → True\n",
        "    has_33([1, 3, 1, 3]) → False\n",
        "    has_33([3, 1, 3]) → False"
      ]
    },
    {
      "cell_type": "code",
      "execution_count": 59,
      "metadata": {
        "id": "9eU2-UZvKfPE"
      },
      "outputs": [],
      "source": [
        "def has_33(nums):\n",
        "    pass\n",
        "    N=len(nums)\n",
        "    B= False\n",
        "    for a in range(N):\n",
        "      if (a + 1 <N) and (nums[a + 1]==3) and (nums[a]==3):\n",
        "        B = True\n",
        "        break;\n",
        "    return B\n"
      ]
    },
    {
      "cell_type": "code",
      "execution_count": 60,
      "metadata": {
        "id": "Yca9X7MAKfPE",
        "outputId": "f29681ec-c761-4452-deb9-e39536ef269b",
        "colab": {
          "base_uri": "https://localhost:8080/"
        }
      },
      "outputs": [
        {
          "output_type": "execute_result",
          "data": {
            "text/plain": [
              "True"
            ]
          },
          "metadata": {},
          "execution_count": 60
        }
      ],
      "source": [
        "# Revisión\n",
        "has_33([1, 3, 3])"
      ]
    },
    {
      "cell_type": "code",
      "execution_count": 61,
      "metadata": {
        "id": "XSw1ml9dKfPE",
        "outputId": "1271618c-b8dd-4fdc-e882-d6e66b5681e0",
        "colab": {
          "base_uri": "https://localhost:8080/"
        }
      },
      "outputs": [
        {
          "output_type": "execute_result",
          "data": {
            "text/plain": [
              "False"
            ]
          },
          "metadata": {},
          "execution_count": 61
        }
      ],
      "source": [
        "# Revisión\n",
        "has_33([1, 3, 1, 3])"
      ]
    },
    {
      "cell_type": "code",
      "execution_count": 62,
      "metadata": {
        "id": "ZKcJgxc5KfPF",
        "outputId": "2274ef6d-3cbd-4eba-8fb9-d5d61821dc4c",
        "colab": {
          "base_uri": "https://localhost:8080/"
        }
      },
      "outputs": [
        {
          "output_type": "execute_result",
          "data": {
            "text/plain": [
              "False"
            ]
          },
          "metadata": {},
          "execution_count": 62
        }
      ],
      "source": [
        "# Revisión\n",
        "has_33([3, 1, 3])"
      ]
    },
    {
      "cell_type": "markdown",
      "metadata": {
        "id": "n-Vj63BpKfPF"
      },
      "source": [
        "#### REPLICADOR: Dada una cadena, devuelve una cadena donde por cada carácter en el original hay tres caracteres REPETIDOS\n",
        "    paper_doll('Hello') --> 'HHHeeellllllooo'\n",
        "    paper_doll('Mississippi') --> 'MMMiiissssssiiippppppiii'"
      ]
    },
    {
      "cell_type": "code",
      "execution_count": 63,
      "metadata": {
        "id": "F6ivbyiXKfPF"
      },
      "outputs": [],
      "source": [
        "def paper_doll(text):\n",
        "    pass\n",
        "    c=\"\"\n",
        "    a=len(text)\n",
        "    count=0\n",
        "    for b in range(a):\n",
        "      while count<3:\n",
        "        c=c+text[b]\n",
        "        count+=1\n",
        "      count=0\n",
        "\n",
        "    return c\n"
      ]
    },
    {
      "cell_type": "code",
      "execution_count": 64,
      "metadata": {
        "id": "h330yUbKKfPF",
        "outputId": "b4ac0bdc-9974-45d1-e62d-26ab5a159ae0",
        "colab": {
          "base_uri": "https://localhost:8080/",
          "height": 35
        }
      },
      "outputs": [
        {
          "output_type": "execute_result",
          "data": {
            "text/plain": [
              "'HHHeeellllllooo'"
            ],
            "application/vnd.google.colaboratory.intrinsic+json": {
              "type": "string"
            }
          },
          "metadata": {},
          "execution_count": 64
        }
      ],
      "source": [
        "# Check\n",
        "paper_doll('Hello')"
      ]
    },
    {
      "cell_type": "code",
      "execution_count": 65,
      "metadata": {
        "id": "sZTw8FlZKfPF",
        "outputId": "5e2db78d-d1c4-4218-b9ec-8c08b7585ea6",
        "colab": {
          "base_uri": "https://localhost:8080/",
          "height": 35
        }
      },
      "outputs": [
        {
          "output_type": "execute_result",
          "data": {
            "text/plain": [
              "'MMMiiissssssiiissssssiiippppppiii'"
            ],
            "application/vnd.google.colaboratory.intrinsic+json": {
              "type": "string"
            }
          },
          "metadata": {},
          "execution_count": 65
        }
      ],
      "source": [
        "# Check\n",
        "paper_doll('Mississippi')"
      ]
    },
    {
      "cell_type": "markdown",
      "metadata": {
        "id": "OJfMlQRcKfPF"
      },
      "source": [
        "#### BLACKJACK: Dados tres enteros entre 1 y 11, si su suma es menor o igual a 21, devuelve su suma. Si su suma excede 21 *y* hay un once, reduce la suma total en 10. Finalmente, si la suma (incluso después del ajuste) excede 21, devuelve 'BUST'\n",
        "    blackjack(5,6,7) --> 18\n",
        "    blackjack(9,9,9) --> 'BUST'\n",
        "    blackjack(9,9,11) --> 19"
      ]
    },
    {
      "cell_type": "code",
      "execution_count": 66,
      "metadata": {
        "id": "REJRcYJmKfPF"
      },
      "outputs": [],
      "source": [
        "def blackjack(a,b,c):\n",
        "    pass\n",
        "    suma=a+b+c\n",
        "    if suma<=21:\n",
        "      return suma\n",
        "    elif (suma>21) and ((a==11) or (b==11) or (c==11)):\n",
        "      suma=suma-10\n",
        "\n",
        "    if suma >21:\n",
        "      return 'BUST'\n",
        "    else:\n",
        "      return suma"
      ]
    },
    {
      "cell_type": "code",
      "execution_count": 67,
      "metadata": {
        "id": "D_sHnddYKfPF",
        "outputId": "eb4eaf00-83a4-46bf-b1a2-9e9c8a102fed",
        "colab": {
          "base_uri": "https://localhost:8080/"
        }
      },
      "outputs": [
        {
          "output_type": "execute_result",
          "data": {
            "text/plain": [
              "18"
            ]
          },
          "metadata": {},
          "execution_count": 67
        }
      ],
      "source": [
        "# Revisión\n",
        "blackjack(5,6,7)"
      ]
    },
    {
      "cell_type": "code",
      "execution_count": 68,
      "metadata": {
        "id": "y0713b36KfPF",
        "outputId": "a9cfaac7-bb59-441a-a896-7fa66e828408",
        "colab": {
          "base_uri": "https://localhost:8080/",
          "height": 35
        }
      },
      "outputs": [
        {
          "output_type": "execute_result",
          "data": {
            "text/plain": [
              "'BUST'"
            ],
            "application/vnd.google.colaboratory.intrinsic+json": {
              "type": "string"
            }
          },
          "metadata": {},
          "execution_count": 68
        }
      ],
      "source": [
        "# Revisión\n",
        "blackjack(9,9,9)"
      ]
    },
    {
      "cell_type": "code",
      "execution_count": 69,
      "metadata": {
        "id": "6eijyrH-KfPG",
        "outputId": "5301b2ca-a93f-47b5-f143-52d5629894ea",
        "colab": {
          "base_uri": "https://localhost:8080/"
        }
      },
      "outputs": [
        {
          "output_type": "execute_result",
          "data": {
            "text/plain": [
              "19"
            ]
          },
          "metadata": {},
          "execution_count": 69
        }
      ],
      "source": [
        "# Revisión\n",
        "blackjack(9,9,11)"
      ]
    },
    {
      "cell_type": "markdown",
      "metadata": {
        "id": "6S22_l6xKfPI"
      },
      "source": [
        "## Suerte!"
      ]
    }
  ],
  "metadata": {
    "kernelspec": {
      "display_name": "Python 3 (ipykernel)",
      "language": "python",
      "name": "python3"
    },
    "language_info": {
      "codemirror_mode": {
        "name": "ipython",
        "version": 3
      },
      "file_extension": ".py",
      "mimetype": "text/x-python",
      "name": "python",
      "nbconvert_exporter": "python",
      "pygments_lexer": "ipython3",
      "version": "3.10.4"
    },
    "colab": {
      "provenance": []
    }
  },
  "nbformat": 4,
  "nbformat_minor": 0
}